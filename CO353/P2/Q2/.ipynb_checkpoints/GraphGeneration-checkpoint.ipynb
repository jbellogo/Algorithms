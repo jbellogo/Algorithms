{
 "cells": [
  {
   "cell_type": "code",
   "execution_count": 25,
   "id": "7a3a33e8",
   "metadata": {},
   "outputs": [],
   "source": [
    "def generate_massive_graph():\n",
    "    n = 10**5\n",
    "    m = n-1\n",
    "    with open(\"massive_in.txt\", \"w\") as file1:\n",
    "        file1.write(f\"{n} {m}\\n\")\n",
    "        for i in range(m,0, -1):\n",
    "            file1.write(f\"{i-1} {i}\\n\")\n",
    "generate_massive_graph()"
   ]
  },
  {
   "cell_type": "code",
   "execution_count": null,
   "id": "071a4b0b",
   "metadata": {},
   "outputs": [],
   "source": []
  }
 ],
 "metadata": {
  "kernelspec": {
   "display_name": "Python 3 (ipykernel)",
   "language": "python",
   "name": "python3"
  },
  "language_info": {
   "codemirror_mode": {
    "name": "ipython",
    "version": 3
   },
   "file_extension": ".py",
   "mimetype": "text/x-python",
   "name": "python",
   "nbconvert_exporter": "python",
   "pygments_lexer": "ipython3",
   "version": "3.11.5"
  }
 },
 "nbformat": 4,
 "nbformat_minor": 5
}
