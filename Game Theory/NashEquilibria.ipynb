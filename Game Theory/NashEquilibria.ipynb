{
 "cells": [
  {
   "cell_type": "markdown",
   "id": "aad4c96a-47f3-432f-865d-8b54a2b716d1",
   "metadata": {},
   "source": [
    "# Part f)\n",
    "\n",
    "## Nash Equilibrium of zero sum games LP formulations.\n",
    " \n",
    " Multiplayer Rock, Paper, Scissors games on graphs with each vertex representing a player."
   ]
  },
  {
   "cell_type": "code",
   "execution_count": 106,
   "id": "61f29a54-756e-4e47-9500-a241c83625e1",
   "metadata": {},
   "outputs": [],
   "source": [
    "from scipy.optimize import linprog\n",
    "from enum import IntEnum\n",
    "import numpy as np\n",
    "import math\n",
    "\n"
   ]
  },
  {
   "cell_type": "code",
   "execution_count": 111,
   "id": "5ed9c4af-30f0-4f23-ae94-a9f946c7e0cd",
   "metadata": {},
   "outputs": [],
   "source": [
    "\n",
    "\n",
    "class Action(IntEnum):\n",
    "    ROCK = 0\n",
    "    PAPER = 1\n",
    "    SCISSORS = 2\n",
    "\n",
    "def utility(v : Action, w : Action):\n",
    "    ''' utility of player v against w'''\n",
    "    mx = np.array([[0, -1, 1], [1,0,-1], [-1,1,0]])\n",
    "    return mx[v][w]\n",
    "    \n",
    "class Graph:\n",
    "    T = [Action.ROCK, Action.PAPER, Action.SCISSORS]\n",
    "\n",
    "    def __init__(self, V : int):\n",
    "        self.V = V\n",
    "        self.vertices = range(0,V)\n",
    "        self.edges = {str(v) : [] for v in self.vertices}\n",
    "        \n",
    "    def add(self, v:int, w:int):\n",
    "        v-=1\n",
    "        w-=1\n",
    "        self.edges[str(v)].append(w)\n",
    "        self.edges[str(w)].append(v)\n",
    "                \n",
    "    def __str__(self):\n",
    "        return str(self.edges)\n",
    "    \n",
    "    ### The following methods are used to solve for NE's in G\n",
    "    def are_nbrs(self, v:int, w:int):\n",
    "        return (w in self.edges[str(v)])\n",
    "    \n",
    "\n",
    "    def get_inequality_constraints(self): \n",
    "        V = self.V\n",
    "        A = np.zeros((3*V, 4*V), dtype=int)\n",
    "        for i in range(V):\n",
    "            for si in T:\n",
    "                true_row_index = i*3+si\n",
    "                for j in range(V):\n",
    "                    for sj in T:\n",
    "                        true_col_index = j*3+sj\n",
    "                        if self.are_nbrs(i,j):\n",
    "                            A[true_row_index][true_col_index] = utility(si,sj)\n",
    "\n",
    "                A[true_row_index][i+3*V] = -1  \n",
    "        \n",
    "        # b = 0_{15,1}\n",
    "        b = [0]*V*3  \n",
    "        # Ax <= b\n",
    "        return A, b\n",
    "    \n",
    "    def get_objective(self):\n",
    "        V = self.V\n",
    "        ''' vector c such that max(cT x) '''\n",
    "        ls = []\n",
    "        for i in range(3*V):\n",
    "            ls.append(0)\n",
    "        for i in range(V):\n",
    "            ls.append(1)\n",
    "        return ls\n",
    "\n",
    "\n",
    "    # x = [y1R, y1P, y1S, y2R,..., y5S, z1,z2,z3,z4,z5] \\in R^(4*V)\n",
    "    def get_bounds(self):\n",
    "        V = self.V\n",
    "        inft = math.inf\n",
    "        bounds = []\n",
    "        for i in range(3*V):\n",
    "            bounds.append((0,1))\n",
    "        for i in range(V):\n",
    "            bounds.append((-inft, inft))\n",
    "        return bounds\n",
    "\n",
    "    def get_equality_constraints(self):\n",
    "        V = self.V\n",
    "        B = np.zeros((V, 4*V), dtype=int)\n",
    "        for row in range(V):\n",
    "            for col in range(V):\n",
    "                if row==col:\n",
    "                    for s in T:\n",
    "                        true_col_index = col*3+s\n",
    "                        B[row][true_col_index] = 1\n",
    "        b = np.repeat(1,V)\n",
    "        # Bx = b\n",
    "        return B, b\n",
    "\n",
    "    def get_NEs(self):\n",
    "        V = self.V\n",
    "        A_ineq, b_ineq = self.get_inequality_constraints()\n",
    "        A_eq, b_eq = self.get_equality_constraints()\n",
    "        obj = self.get_objective()\n",
    "        bounds = self.get_bounds()\n",
    "        \n",
    "        opt = linprog(c=obj, A_ub=A_ineq, b_ub=b_ineq, A_eq=A_eq, b_eq=b_eq,\n",
    "                      bounds=bounds,\n",
    "                      method=\"highs\")\n",
    "\n",
    "        print(f\"Objective: {opt.fun}\")\n",
    "        x = opt.x\n",
    "        print(\"Solution:\")\n",
    "        for i in range(V):\n",
    "            for s in T:\n",
    "                true_index = 3*i+s\n",
    "                print(f\"y*[{i+1}][{s.name}] = {x[true_index]}\")\n",
    "\n",
    "        for i in range(V):\n",
    "            true_index = 3*V+i\n",
    "            print(f\"z[{i+1}] = {x[true_index]}\")\n",
    "\n",
    "\n",
    "\n",
    "\n",
    "    \n",
    "    "
   ]
  },
  {
   "cell_type": "markdown",
   "id": "bad24234-dd97-4143-94d1-545bb6309ddb",
   "metadata": {},
   "source": [
    "### G1 (cycle of length 5)"
   ]
  },
  {
   "cell_type": "code",
   "execution_count": 113,
   "id": "4a33c430-47dc-4115-8399-a383d0daf8e7",
   "metadata": {},
   "outputs": [
    {
     "name": "stdout",
     "output_type": "stream",
     "text": [
      "G1: {'0': [1, 4], '1': [0, 2], '2': [1, 3], '3': [2, 4], '4': [3, 0]}\n",
      "Objective: 0.0\n",
      "Solution:\n",
      "y*[1][ROCK] = 0.3333333333333333\n",
      "y*[1][PAPER] = 0.3333333333333335\n",
      "y*[1][SCISSORS] = 0.3333333333333333\n",
      "y*[2][ROCK] = 0.3333333333333334\n",
      "y*[2][PAPER] = 0.3333333333333333\n",
      "y*[2][SCISSORS] = 0.3333333333333334\n",
      "y*[3][ROCK] = 0.3333333333333334\n",
      "y*[3][PAPER] = 0.3333333333333333\n",
      "y*[3][SCISSORS] = 0.3333333333333334\n",
      "y*[4][ROCK] = 0.3333333333333333\n",
      "y*[4][PAPER] = 0.3333333333333334\n",
      "y*[4][SCISSORS] = 0.3333333333333333\n",
      "y*[5][ROCK] = 0.3333333333333333\n",
      "y*[5][PAPER] = 0.3333333333333334\n",
      "y*[5][SCISSORS] = 0.3333333333333333\n",
      "z[1] = -0.0\n",
      "z[2] = -0.0\n",
      "z[3] = -0.0\n",
      "z[4] = -0.0\n",
      "z[5] = -0.0\n"
     ]
    }
   ],
   "source": [
    "G1 = Graph(5)\n",
    "G1.add(1,2)\n",
    "G1.add(2,3)\n",
    "G1.add(3,4)\n",
    "G1.add(4,5)\n",
    "G1.add(5,1)\n",
    "print(f\"G1: {G1}\")\n",
    "G1.get_NEs()\n"
   ]
  },
  {
   "cell_type": "markdown",
   "id": "94b39ceb-b0ab-4c0e-8a9c-55b82be05d3b",
   "metadata": {},
   "source": [
    "## G2"
   ]
  },
  {
   "cell_type": "code",
   "execution_count": 109,
   "id": "e1d2b8b7-7aeb-429a-866c-b7096149704e",
   "metadata": {},
   "outputs": [
    {
     "name": "stdout",
     "output_type": "stream",
     "text": [
      "{'0': [1, 2], '1': [0, 3, 2], '2': [0, 4, 1], '3': [1, 4], '4': [2, 3]}\n",
      "Objective: 0.0\n",
      "Solution:\n",
      "y*[1][ROCK] = 0.3333333333333334\n",
      "y*[1][PAPER] = 0.33333333333333326\n",
      "y*[1][SCISSORS] = 0.33333333333333326\n",
      "y*[2][ROCK] = 0.6666666666666667\n",
      "y*[2][PAPER] = -0.0\n",
      "y*[2][SCISSORS] = 0.3333333333333333\n",
      "y*[3][ROCK] = 0.0\n",
      "y*[3][PAPER] = 0.6666666666666666\n",
      "y*[3][SCISSORS] = 0.3333333333333333\n",
      "y*[4][ROCK] = 0.6666666666666665\n",
      "y*[4][PAPER] = 0.0\n",
      "y*[4][SCISSORS] = 0.33333333333333326\n",
      "y*[5][ROCK] = -0.0\n",
      "y*[5][PAPER] = 0.6666666666666665\n",
      "y*[5][SCISSORS] = 0.33333333333333337\n",
      "z[1] = -0.0\n",
      "z[2] = -0.0\n",
      "z[3] = -0.0\n",
      "z[4] = -0.0\n",
      "z[5] = -0.0\n"
     ]
    }
   ],
   "source": [
    "G2 = Graph(5)\n",
    "G2.add(1,2)\n",
    "G2.add(1,3)\n",
    "G2.add(3,5)\n",
    "G2.add(2,4)\n",
    "G2.add(4,5)\n",
    "G2.add(2,3)\n",
    "print(f\"G2: {G2}\")\n",
    "G2.get_NEs()\n"
   ]
  },
  {
   "cell_type": "markdown",
   "id": "aa70aadd-9728-422a-a37e-7980fb98f8d4",
   "metadata": {},
   "source": [
    "## G3"
   ]
  },
  {
   "cell_type": "code",
   "execution_count": 114,
   "id": "090a742d-cd4c-4fc9-84ce-3cced2c49cc0",
   "metadata": {},
   "outputs": [
    {
     "name": "stdout",
     "output_type": "stream",
     "text": [
      "G3: {'0': [1, 2], '1': [0, 2], '2': [0, 1, 3], '3': [2]}\n",
      "Objective: 0.0\n",
      "Solution:\n",
      "y*[1][ROCK] = 0.3333333333333334\n",
      "y*[1][PAPER] = 0.3333333333333333\n",
      "y*[1][SCISSORS] = 0.3333333333333333\n",
      "y*[2][ROCK] = 0.3333333333333333\n",
      "y*[2][PAPER] = 0.3333333333333334\n",
      "y*[2][SCISSORS] = 0.3333333333333333\n",
      "y*[3][ROCK] = 0.3333333333333332\n",
      "y*[3][PAPER] = 0.3333333333333333\n",
      "y*[3][SCISSORS] = 0.3333333333333333\n",
      "y*[4][ROCK] = 0.33333333333333326\n",
      "y*[4][PAPER] = 0.3333333333333333\n",
      "y*[4][SCISSORS] = 0.3333333333333333\n",
      "z[1] = -0.0\n",
      "z[2] = -0.0\n",
      "z[3] = -0.0\n",
      "z[4] = -0.0\n"
     ]
    }
   ],
   "source": [
    "G3 = Graph(4)\n",
    "G3.add(1,2)\n",
    "G3.add(1,3)\n",
    "G3.add(2,3)\n",
    "G3.add(3,4)\n",
    "print(f\"G3: {G3}\")\n",
    "G3.get_NEs()\n"
   ]
  },
  {
   "cell_type": "code",
   "execution_count": null,
   "id": "0ad7c7c4-b345-486d-b147-d194ab824d4d",
   "metadata": {},
   "outputs": [],
   "source": []
  }
 ],
 "metadata": {
  "kernelspec": {
   "display_name": "Python 3",
   "language": "python",
   "name": "python3"
  },
  "language_info": {
   "codemirror_mode": {
    "name": "ipython",
    "version": 3
   },
   "file_extension": ".py",
   "mimetype": "text/x-python",
   "name": "python",
   "nbconvert_exporter": "python",
   "pygments_lexer": "ipython3",
   "version": "3.10.4"
  }
 },
 "nbformat": 4,
 "nbformat_minor": 5
}
