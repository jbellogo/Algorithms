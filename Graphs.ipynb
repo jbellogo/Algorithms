{
 "cells": [
  {
   "cell_type": "markdown",
   "id": "20012036",
   "metadata": {},
   "source": [
    "# Graph Algorithms explorations/ informal tests\n",
    "* BFS\n",
    "* DFS\n",
    "* Shortest Paths \n",
    "* Djikstra's\n",
    "* Kruskal's\n",
    "* Prim's"
   ]
  },
  {
   "cell_type": "code",
   "execution_count": 1,
   "id": "557b2f76",
   "metadata": {},
   "outputs": [],
   "source": [
    "from djikstra import djikstra1, djikstra2\n",
    "from graph_examples import G1, G2\n"
   ]
  },
  {
   "cell_type": "code",
   "execution_count": 3,
   "id": "48395f37",
   "metadata": {},
   "outputs": [
    {
     "name": "stdout",
     "output_type": "stream",
     "text": [
      "vertex: a, edges: [w(a->c)=2, w(a->b)=3, w(a->f)=6]\n",
      "vertex: b, edges: []\n",
      "vertex: c, edges: [w(c->f)=2, w(c->b)=1]\n",
      "vertex: f, edges: []\n",
      "vertex: s, edges: [w(s->a)=1, w(s->c)=5, w(s->r)=2]\n",
      "vertex: r, edges: [w(r->f)=4, w(r->b)=3]\n",
      "\n",
      "vertex: A, edges: [w(A->B)=10, w(A->C)=3]\n",
      "vertex: B, edges: [w(B->C)=1, w(B->D)=2]\n",
      "vertex: C, edges: [w(C->B)=4, w(C->D)=8, w(C->E)=2]\n",
      "vertex: D, edges: [w(D->E)=7]\n",
      "vertex: E, edges: [w(E->D)=9]\n",
      "\n"
     ]
    }
   ],
   "source": [
    "print(G1)\n",
    "print(G2)"
   ]
  },
  {
   "cell_type": "code",
   "execution_count": 2,
   "id": "e015b571",
   "metadata": {},
   "outputs": [
    {
     "name": "stdout",
     "output_type": "stream",
     "text": [
      "{'edges': [], 'vertrices': ['C', 'D']}\n",
      "{'edges': [], 'vertrices': ['D', 'E']}\n"
     ]
    },
    {
     "data": {
      "text/plain": [
       "True"
      ]
     },
     "execution_count": 2,
     "metadata": {},
     "output_type": "execute_result"
    }
   ],
   "source": [
    "print(G2.get_nbrs_set(['A', 'B']))\n",
    "print(G2.get_nbrs_set(['A', 'B', 'C']))\n",
    "\n",
    "\n",
    "A = {1,2,3}\n",
    "B = {3,2,1}\n",
    "A==B"
   ]
  },
  {
   "cell_type": "code",
   "execution_count": 42,
   "id": "5c5f7aba",
   "metadata": {},
   "outputs": [
    {
     "name": "stdout",
     "output_type": "stream",
     "text": [
      "Full distance history: {'a': [inf, 1], 'b': [inf, 4], 'c': [inf, 5, 3], 'f': [inf, 7, 6, 5], 's': [0], 'r': [inf, 2]}\n",
      "{'a': 1, 'b': 4, 'c': 3, 'f': 5, 's': 0, 'r': 2}\n",
      "{'s': 's', 'a': 's', 'c': 'a', 'r': 's', 'b': 'a', 'f': 'c'}\n"
     ]
    },
    {
     "data": {
      "text/plain": [
       "{'s': ('s', 0),\n",
       " 'a': ('sa', 1),\n",
       " 'c': ('sac', 3),\n",
       " 'r': ('sr', 2),\n",
       " 'b': ('sab', 4),\n",
       " 'f': ('sacf', 5)}"
      ]
     },
     "execution_count": 42,
     "metadata": {},
     "output_type": "execute_result"
    }
   ],
   "source": [
    "# G1\n",
    "weights, priors = djikstra(G1, 's', G1.get_order())\n",
    "print(weights)\n",
    "print(priors)\n",
    "get_paths(priors, 's')\n"
   ]
  },
  {
   "cell_type": "code",
   "execution_count": 43,
   "id": "95aca33e",
   "metadata": {},
   "outputs": [
    {
     "name": "stdout",
     "output_type": "stream",
     "text": [
      "vertex: A, edges: ['w(AB)=10', 'w(AC)=3']\n",
      "vertex: B, edges: ['w(BC)=1', 'w(BD)=2']\n",
      "vertex: C, edges: ['w(CB)=4', 'w(CD)=8', 'w(CE)=2']\n",
      "vertex: D, edges: ['w(DE)=7']\n",
      "vertex: E, edges: ['w(ED)=9']\n",
      "\n",
      "Current vertex: A\n",
      " Current nbr: B\n",
      "  w(nbr,v)+d[v]=10\n",
      "  d[nbr]=inf\n",
      "Current vertex: C\n",
      " Current nbr: B\n",
      "  w(nbr,v)+d[v]=7\n",
      "  d[nbr]=10\n",
      "Full distance history: {'A': [0], 'B': [inf, 10, 7], 'C': [inf, 3], 'D': [inf, 12, 11], 'E': [inf, 5]}\n",
      "{'A': 0, 'B': 7, 'C': 3, 'D': 11, 'E': 5}\n",
      "{'A': 'A', 'B': 'C', 'C': 'A', 'D': 'C', 'E': 'C'}\n"
     ]
    },
    {
     "data": {
      "text/plain": [
       "{'A': ('A', 0),\n",
       " 'B': ('ACB', 7),\n",
       " 'C': ('AC', 3),\n",
       " 'D': ('ACD', 11),\n",
       " 'E': ('ACE', 5)}"
      ]
     },
     "execution_count": 43,
     "metadata": {},
     "output_type": "execute_result"
    }
   ],
   "source": [
    "# G2\n",
    "# G2 shows that this Djikstra implementation is wrong, the issue is with the vertex iteration (first for loop)\n",
    "# I though topological_order would be enough but as it is, If we have C->B->D and B is processed first, \n",
    "# sp(D) = sp(B)_1 + w(B,D)  will be computed assuming the shortest distance to B ie sp(B) is known, but if it is lates improved by considering B as a nbr of C, \n",
    "# sp(D) = sp(B)_new + w(B,D) will not be updated!!! \n",
    "# funnily enough I suspect the error is in deltas = d at the end.\n",
    "#   or instead of iterating over all neighbours for v, just iterate over all nbrs INTERSECTION visited vertices, \n",
    "#   that MIGHT ensure we dont pre-entiveley compute distances with incorrect shortest paths ie sp(B) until sp(B)=delta(B)\n",
    "print(G2)\n",
    "weights, priors = djikstra(G2, 'A', G2.get_order())\n",
    "print(weights)\n",
    "print(priors)\n",
    "get_paths(priors, 'A')\n",
    "\n"
   ]
  },
  {
   "cell_type": "code",
   "execution_count": 7,
   "id": "b6282deb",
   "metadata": {},
   "outputs": [
    {
     "ename": "TypeError",
     "evalue": "'builtin_function_or_method' object is not iterable",
     "output_type": "error",
     "traceback": [
      "\u001b[0;31m---------------------------------------------------------------------------\u001b[0m",
      "\u001b[0;31mTypeError\u001b[0m                                 Traceback (most recent call last)",
      "Cell \u001b[0;32mIn[7], line 1\u001b[0m\n\u001b[0;32m----> 1\u001b[0m G2\u001b[38;5;241m.\u001b[39mget_nbrs_set([\u001b[38;5;124m'\u001b[39m\u001b[38;5;124mA\u001b[39m\u001b[38;5;124m'\u001b[39m, \u001b[38;5;124m'\u001b[39m\u001b[38;5;124mB\u001b[39m\u001b[38;5;124m'\u001b[39m])\n",
      "File \u001b[0;32m~/Desktop/projects/algorithms/graph_implementations.py:38\u001b[0m, in \u001b[0;36mGraphAdjacencyList.get_nbrs_set\u001b[0;34m(self, myset)\u001b[0m\n\u001b[1;32m     35\u001b[0m \u001b[38;5;28;01mdef\u001b[39;00m \u001b[38;5;21mget_nbrs_set\u001b[39m(\u001b[38;5;28mself\u001b[39m, myset):\n\u001b[1;32m     36\u001b[0m     \u001b[38;5;66;03m# asume set is subset of V={nodes}\u001b[39;00m\n\u001b[1;32m     37\u001b[0m     result \u001b[38;5;241m=\u001b[39m []\n\u001b[0;32m---> 38\u001b[0m     \u001b[38;5;28;01mfor\u001b[39;00m v, nbrs \u001b[38;5;129;01min\u001b[39;00m \u001b[38;5;28mself\u001b[39m\u001b[38;5;241m.\u001b[39medges\u001b[38;5;241m.\u001b[39mitems:\n\u001b[1;32m     39\u001b[0m         vtx, wt \u001b[38;5;241m=\u001b[39m nbrs\n\u001b[1;32m     40\u001b[0m         \u001b[38;5;28;01mif\u001b[39;00m vtx \u001b[38;5;129;01mnot\u001b[39;00m \u001b[38;5;129;01min\u001b[39;00m (result \u001b[38;5;241m+\u001b[39m myset):\n",
      "\u001b[0;31mTypeError\u001b[0m: 'builtin_function_or_method' object is not iterable"
     ]
    }
   ],
   "source": []
  },
  {
   "cell_type": "code",
   "execution_count": 44,
   "id": "673a0073",
   "metadata": {},
   "outputs": [],
   "source": []
  },
  {
   "cell_type": "code",
   "execution_count": 46,
   "id": "821474c6",
   "metadata": {},
   "outputs": [
    {
     "name": "stdout",
     "output_type": "stream",
     "text": [
      "vertex: A, edges: ['w(AB)=10', 'w(AC)=3']\n",
      "vertex: B, edges: ['w(BC)=1', 'w(BD)=2']\n",
      "vertex: C, edges: ['w(CB)=4', 'w(CD)=8', 'w(CE)=2']\n",
      "vertex: D, edges: ['w(DE)=7']\n",
      "vertex: E, edges: ['w(ED)=9']\n",
      "\n",
      "Full distance history: {'A': [0], 'B': [inf], 'C': [inf], 'D': [inf], 'E': [inf]}\n",
      "{'A': 0, 'B': inf, 'C': inf, 'D': inf, 'E': inf}\n",
      "{'A': 'A'}\n"
     ]
    },
    {
     "data": {
      "text/plain": [
       "{'A': ('A', 0)}"
      ]
     },
     "execution_count": 46,
     "metadata": {},
     "output_type": "execute_result"
    }
   ],
   "source": [
    "print(G2)\n",
    "weights, priors = djikstra2(G2, 'A', G2.get_order())\n",
    "print(weights)\n",
    "print(priors)\n",
    "get_paths(priors, 'A')\n",
    "\n"
   ]
  }
 ],
 "metadata": {
  "kernelspec": {
   "display_name": "Python 3 (ipykernel)",
   "language": "python",
   "name": "python3"
  },
  "language_info": {
   "codemirror_mode": {
    "name": "ipython",
    "version": 3
   },
   "file_extension": ".py",
   "mimetype": "text/x-python",
   "name": "python",
   "nbconvert_exporter": "python",
   "pygments_lexer": "ipython3",
   "version": "3.11.5"
  }
 },
 "nbformat": 4,
 "nbformat_minor": 5
}
