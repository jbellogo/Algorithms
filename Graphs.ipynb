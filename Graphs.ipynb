{
 "cells": [
  {
   "cell_type": "markdown",
   "id": "20012036",
   "metadata": {},
   "source": [
    "# Graph Algorithms explorations/ informal tests\n",
    "* BFS\n",
    "* DFS\n",
    "* Djikstra's\n",
    "* Kruskal's\n",
    "* Prim's"
   ]
  },
  {
   "cell_type": "code",
   "execution_count": 1,
   "id": "557b2f76",
   "metadata": {},
   "outputs": [],
   "source": [
    "from graph_examples import G1, G2\n",
    "\n"
   ]
  },
  {
   "cell_type": "code",
   "execution_count": 2,
   "id": "6c41bf8f",
   "metadata": {},
   "outputs": [],
   "source": [
    "from prim import prims\n",
    "# need to adapt to undirected graphs!!!!\n"
   ]
  },
  {
   "cell_type": "code",
   "execution_count": null,
   "id": "a2444af7",
   "metadata": {},
   "outputs": [],
   "source": []
  },
  {
   "cell_type": "code",
   "execution_count": 3,
   "id": "5b33ed98",
   "metadata": {},
   "outputs": [
    {
     "name": "stdout",
     "output_type": "stream",
     "text": [
      "vertex: a, edges: [w(a->c)=2, w(a->b)=3, w(a->f)=6]\n",
      "vertex: b, edges: []\n",
      "vertex: c, edges: [w(c->f)=2, w(c->b)=1]\n",
      "vertex: f, edges: []\n",
      "vertex: s, edges: [w(s->a)=1, w(s->c)=5, w(s->r)=2]\n",
      "vertex: r, edges: [w(r->f)=4, w(r->b)=3]\n",
      "\n",
      "vertex: A, edges: [w(A->B)=10, w(A->C)=3]\n",
      "vertex: B, edges: [w(B->C)=1, w(B->D)=2]\n",
      "vertex: C, edges: [w(C->B)=4, w(C->D)=8, w(C->E)=2]\n",
      "vertex: D, edges: [w(D->E)=7]\n",
      "vertex: E, edges: [w(E->D)=9]\n",
      "\n"
     ]
    }
   ],
   "source": [
    "print(G1)\n",
    "print(G2)"
   ]
  },
  {
   "cell_type": "code",
   "execution_count": 4,
   "id": "22dd2cc6",
   "metadata": {},
   "outputs": [
    {
     "name": "stdout",
     "output_type": "stream",
     "text": [
      "['s']\n",
      "(['c', 'a', 'r'], [w(s->a)=1, w(s->c)=5, w(s->r)=2])\n",
      "['s', 'a']\n",
      "(['c', 'f', 'b', 'r'], [w(s->c)=5, w(s->r)=2, w(a->c)=2, w(a->b)=3, w(a->f)=6])\n",
      "['s', 'a', 'r']\n",
      "(['c', 'b', 'f'], [w(s->c)=5, w(a->c)=2, w(a->b)=3, w(a->f)=6, w(r->f)=4, w(r->b)=3])\n",
      "['s', 'a', 'r', 'c']\n",
      "(['b', 'f'], [w(a->b)=3, w(a->f)=6, w(r->f)=4, w(r->b)=3, w(c->f)=2, w(c->b)=1])\n",
      "['s', 'a', 'r', 'c', 'b']\n",
      "(['f'], [w(a->f)=6, w(r->f)=4, w(c->f)=2])\n"
     ]
    },
    {
     "data": {
      "text/plain": [
       "False"
      ]
     },
     "execution_count": 4,
     "metadata": {},
     "output_type": "execute_result"
    }
   ],
   "source": [
    "A = []\n",
    "V = ['s', 'a', 'r', 'c','b']\n",
    "for v in V:\n",
    "    A.append(v)\n",
    "    print(A)\n",
    "    print(G1.get_nbrs_set(A))\n",
    "\n",
    "[\"a\", \"b\"] == [\"b\", \"a\"]"
   ]
  },
  {
   "cell_type": "code",
   "execution_count": 5,
   "id": "03c7881f",
   "metadata": {},
   "outputs": [],
   "source": [
    "from djikstra import djikstra1, djikstra\n"
   ]
  },
  {
   "cell_type": "code",
   "execution_count": 6,
   "id": "f51990b5",
   "metadata": {},
   "outputs": [
    {
     "ename": "KeyError",
     "evalue": "''",
     "output_type": "error",
     "traceback": [
      "\u001b[0;31m---------------------------------------------------------------------------\u001b[0m",
      "\u001b[0;31mKeyError\u001b[0m                                  Traceback (most recent call last)",
      "Cell \u001b[0;32mIn[6], line 1\u001b[0m\n\u001b[0;32m----> 1\u001b[0m weights, priors \u001b[38;5;241m=\u001b[39m djikstra(G1, \u001b[38;5;124m'\u001b[39m\u001b[38;5;124m'\u001b[39m)\n",
      "File \u001b[0;32m~/Desktop/projects/algorithms/djikstra.py:14\u001b[0m, in \u001b[0;36mdjikstra\u001b[0;34m(G, s)\u001b[0m\n\u001b[1;32m     12\u001b[0m V \u001b[38;5;241m=\u001b[39m G\u001b[38;5;241m.\u001b[39mget_nodes()\n\u001b[1;32m     13\u001b[0m \u001b[38;5;28;01mwhile\u001b[39;00m A \u001b[38;5;241m!=\u001b[39m V:\n\u001b[0;32m---> 14\u001b[0m     X, X_edges \u001b[38;5;241m=\u001b[39m G\u001b[38;5;241m.\u001b[39mget_nbrs_set(A) \u001b[38;5;66;03m# unexplored nbrs, unexplored nbs edges (ie cut(A))\u001b[39;00m\n\u001b[1;32m     15\u001b[0m     X_updates \u001b[38;5;241m=\u001b[39m []\n\u001b[1;32m     16\u001b[0m     \u001b[38;5;28;01mfor\u001b[39;00m v \u001b[38;5;129;01min\u001b[39;00m X:\n\u001b[1;32m     17\u001b[0m         \u001b[38;5;66;03m# X =  ['r', 'f', 'b', 'c']\u001b[39;00m\n\u001b[1;32m     18\u001b[0m         \u001b[38;5;66;03m# X_edges = [w(s->c)=5, w(s->r)=2, w(a->c)=2, w(a->b)=3, w(a->f)=6]\u001b[39;00m\n",
      "File \u001b[0;32m~/Desktop/projects/algorithms/graph_implementations.py:70\u001b[0m, in \u001b[0;36mGraphAdjacencyList.get_nbrs_set\u001b[0;34m(self, myset)\u001b[0m\n\u001b[1;32m     68\u001b[0m result_vertices, result_edges \u001b[38;5;241m=\u001b[39m [],[]\n\u001b[1;32m     69\u001b[0m \u001b[38;5;28;01mfor\u001b[39;00m v \u001b[38;5;129;01min\u001b[39;00m myset:\n\u001b[0;32m---> 70\u001b[0m     \u001b[38;5;28;01mfor\u001b[39;00m edge \u001b[38;5;129;01min\u001b[39;00m \u001b[38;5;28mself\u001b[39m\u001b[38;5;241m.\u001b[39medges[v]:\n\u001b[1;32m     71\u001b[0m         \u001b[38;5;28;01mif\u001b[39;00m edge\u001b[38;5;241m.\u001b[39mget_to_vtx() \u001b[38;5;129;01mnot\u001b[39;00m \u001b[38;5;129;01min\u001b[39;00m myset: \u001b[38;5;66;03m# cant say not in (myset+result_vertices) cuz I care about all edges\u001b[39;00m\n\u001b[1;32m     72\u001b[0m             result_vertices\u001b[38;5;241m.\u001b[39mappend(edge\u001b[38;5;241m.\u001b[39mget_to_vtx())\n",
      "\u001b[0;31mKeyError\u001b[0m: ''"
     ]
    }
   ],
   "source": [
    "# weights, priors = djikstra(G1, '')\n"
   ]
  },
  {
   "cell_type": "code",
   "execution_count": null,
   "id": "93de1160",
   "metadata": {},
   "outputs": [],
   "source": [
    "weights # it works for shortest path lengths!!!!\n"
   ]
  },
  {
   "cell_type": "code",
   "execution_count": null,
   "id": "e015b571",
   "metadata": {},
   "outputs": [],
   "source": [
    "nbrs = G2.get_nbrs_set(['A', 'B'])\n",
    "print(G2.get_nbrs_set(['A', 'B', 'C']))\n",
    "nbrs['edges'] # keep track of specific edges in A-cut with incident vertices in A. "
   ]
  },
  {
   "cell_type": "code",
   "execution_count": null,
   "id": "5c5f7aba",
   "metadata": {},
   "outputs": [],
   "source": [
    "# G1\n",
    "weights, priors = djikstra(G1, 's', G1.get_order())\n",
    "print(weights)\n",
    "print(priors)\n",
    "get_paths(priors, 's')\n"
   ]
  },
  {
   "cell_type": "code",
   "execution_count": null,
   "id": "95aca33e",
   "metadata": {},
   "outputs": [],
   "source": [
    "# G2\n",
    "# G2 shows that this Djikstra implementation is wrong, the issue is with the vertex iteration (first for loop)\n",
    "# I though topological_order would be enough but as it is, If we have C->B->D and B is processed first, \n",
    "# sp(D) = sp(B)_1 + w(B,D)  will be computed assuming the shortest distance to B ie sp(B) is known, but if it is lates improved by considering B as a nbr of C, \n",
    "# sp(D) = sp(B)_new + w(B,D) will not be updated!!! \n",
    "# funnily enough I suspect the error is in deltas = d at the end.\n",
    "#   or instead of iterating over all neighbours for v, just iterate over all nbrs INTERSECTION visited vertices, \n",
    "#   that MIGHT ensure we dont pre-entiveley compute distances with incorrect shortest paths ie sp(B) until sp(B)=delta(B)\n",
    "print(G2)\n",
    "weights, priors = djikstra(G2, 'A', G2.get_order())\n",
    "print(weights)\n",
    "print(priors)\n",
    "get_paths(priors, 'A')\n",
    "\n"
   ]
  },
  {
   "cell_type": "code",
   "execution_count": 10,
   "id": "88911249",
   "metadata": {},
   "outputs": [],
   "source": [
    "########## Undirected graphs Matrix implementation \n",
    "import numpy as np"
   ]
  },
  {
   "cell_type": "code",
   "execution_count": 11,
   "id": "2ce42fda",
   "metadata": {},
   "outputs": [],
   "source": [
    "V = ['a', 'c', 's', 'd', 'f', 't']\n",
    "E = np.array([[0,1,1,1,1,1],\n",
    "             [1,0,1,0,0,1],\n",
    "             [1,1,0,1,0,0],\n",
    "             [1,0,1,0,1,0],\n",
    "             [1,0,0,1,0,1],\n",
    "             [1,1,0,0,1,0]])"
   ]
  },
  {
   "cell_type": "code",
   "execution_count": 12,
   "id": "28e53cb5",
   "metadata": {},
   "outputs": [],
   "source": [
    "def is_subset(subset, bigset):\n",
    "    return subset.intersection(bigset) == subset\n",
    "\n",
    "\n",
    "class UndirectedG():\n",
    "    def __init__(self, V, E):\n",
    "        self.V = V\n",
    "        self.E = E\n",
    "        '''\n",
    "        Let E be a numpt array matrix\n",
    "        E = [\n",
    "        [row1]\n",
    "        row2\n",
    "        ]\n",
    "        '''\n",
    "    def _get_index(self, v):\n",
    "        '''v in V'''\n",
    "        return self.V.index(v)\n",
    "\n",
    "    def get_cut(self, S):\n",
    "        '''S \\subset V'''\n",
    "        indices = [] # 0,1,2,3\n",
    "        cut = []\n",
    "        for v in S:\n",
    "            indices.append(self._get_index(v))\n",
    "        for row_index, col in enumerate(self.E):\n",
    "            for col_index, edge_bool in enumerate(col):\n",
    "                include = not is_subset(set([row_index, col_index]), set(indices))\n",
    "                include &= (row_index in indices or col_index in indices)\n",
    "                if include:\n",
    "                    if self.E[row_index][col_index] == 1:\n",
    "                        cut.append((self.V[row_index], self.V[col_index]))\n",
    "                if row_index == col_index:\n",
    "                    break # stop after diagonal. Don't repeat yourself!\n",
    "            \n",
    "        return cut\n",
    "\n",
    "                        \n",
    "                    \n",
    "                    \n",
    "\n",
    "            \n",
    "            \n",
    "            \n",
    "            \n",
    "        \n",
    "\n"
   ]
  },
  {
   "cell_type": "code",
   "execution_count": 13,
   "id": "8723e754",
   "metadata": {},
   "outputs": [
    {
     "data": {
      "text/plain": [
       "[('c', 'a'),\n",
       " ('s', 'c'),\n",
       " ('d', 'a'),\n",
       " ('d', 's'),\n",
       " ('f', 'd'),\n",
       " ('t', 'a'),\n",
       " ('t', 'f')]"
      ]
     },
     "execution_count": 13,
     "metadata": {},
     "output_type": "execute_result"
    }
   ],
   "source": [
    "G = UndirectedG(V, E)\n",
    "G.get_cut(['s', 'a', 'f']) #noice "
   ]
  },
  {
   "cell_type": "code",
   "execution_count": null,
   "id": "1b08eb61",
   "metadata": {},
   "outputs": [],
   "source": [
    "x = {{1,2}, {3,4}}\n",
    "x.add({2,1})\n",
    "x"
   ]
  }
 ],
 "metadata": {
  "kernelspec": {
   "display_name": "Python 3 (ipykernel)",
   "language": "python",
   "name": "python3"
  },
  "language_info": {
   "codemirror_mode": {
    "name": "ipython",
    "version": 3
   },
   "file_extension": ".py",
   "mimetype": "text/x-python",
   "name": "python",
   "nbconvert_exporter": "python",
   "pygments_lexer": "ipython3",
   "version": "3.11.5"
  }
 },
 "nbformat": 4,
 "nbformat_minor": 5
}
