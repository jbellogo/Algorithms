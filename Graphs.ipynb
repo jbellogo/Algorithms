{
 "cells": [
  {
   "cell_type": "markdown",
   "id": "20012036",
   "metadata": {},
   "source": [
    "# Graph Algorithms explorations/ informal tests\n",
    "* BFS\n",
    "* DFS\n",
    "* Shortest Paths \n",
    "* Djikstra's\n",
    "* Kruskal's\n",
    "* Prim's"
   ]
  },
  {
   "cell_type": "code",
   "execution_count": 1,
   "id": "557b2f76",
   "metadata": {},
   "outputs": [],
   "source": [
    "from graph_examples import G1, G2\n",
    "\n"
   ]
  },
  {
   "cell_type": "code",
   "execution_count": null,
   "id": "6c41bf8f",
   "metadata": {},
   "outputs": [],
   "source": [
    "\n"
   ]
  },
  {
   "cell_type": "code",
   "execution_count": 2,
   "id": "5b33ed98",
   "metadata": {},
   "outputs": [
    {
     "name": "stdout",
     "output_type": "stream",
     "text": [
      "vertex: a, edges: [w(a->c)=2, w(a->b)=3, w(a->f)=6]\n",
      "vertex: b, edges: []\n",
      "vertex: c, edges: [w(c->f)=2, w(c->b)=1]\n",
      "vertex: f, edges: []\n",
      "vertex: s, edges: [w(s->a)=1, w(s->c)=5, w(s->r)=2]\n",
      "vertex: r, edges: [w(r->f)=4, w(r->b)=3]\n",
      "\n",
      "vertex: A, edges: [w(A->B)=10, w(A->C)=3]\n",
      "vertex: B, edges: [w(B->C)=1, w(B->D)=2]\n",
      "vertex: C, edges: [w(C->B)=4, w(C->D)=8, w(C->E)=2]\n",
      "vertex: D, edges: [w(D->E)=7]\n",
      "vertex: E, edges: [w(E->D)=9]\n",
      "\n"
     ]
    }
   ],
   "source": [
    "print(G1)\n",
    "print(G2)"
   ]
  },
  {
   "cell_type": "code",
   "execution_count": 3,
   "id": "22dd2cc6",
   "metadata": {},
   "outputs": [
    {
     "name": "stdout",
     "output_type": "stream",
     "text": [
      "['s']\n",
      "{'vertices': ['r', 'c', 'a'], 'edges': [w(s->a)=1, w(s->c)=5, w(s->r)=2]}\n",
      "['s', 'a']\n",
      "{'vertices': ['b', 'r', 'c', 'f'], 'edges': [w(s->c)=5, w(s->r)=2, w(a->c)=2, w(a->b)=3, w(a->f)=6]}\n",
      "['s', 'a', 'r']\n",
      "{'vertices': ['b', 'c', 'f'], 'edges': [w(s->c)=5, w(a->c)=2, w(a->b)=3, w(a->f)=6, w(r->f)=4, w(r->b)=3]}\n",
      "['s', 'a', 'r', 'c']\n",
      "{'vertices': ['b', 'f'], 'edges': [w(a->b)=3, w(a->f)=6, w(r->f)=4, w(r->b)=3, w(c->f)=2, w(c->b)=1]}\n",
      "['s', 'a', 'r', 'c', 'b']\n",
      "{'vertices': ['f'], 'edges': [w(a->f)=6, w(r->f)=4, w(c->f)=2]}\n"
     ]
    },
    {
     "data": {
      "text/plain": [
       "False"
      ]
     },
     "execution_count": 3,
     "metadata": {},
     "output_type": "execute_result"
    }
   ],
   "source": [
    "A = []\n",
    "V = ['s', 'a', 'r', 'c','b']\n",
    "for v in V:\n",
    "    A.append(v)\n",
    "    print(A)\n",
    "    print(G1.get_nbrs_set(A))\n",
    "\n",
    "[\"a\", \"b\"] == [\"b\", \"a\"]"
   ]
  },
  {
   "cell_type": "code",
   "execution_count": 4,
   "id": "03c7881f",
   "metadata": {},
   "outputs": [],
   "source": [
    "from djikstra import djikstra1, djikstra\n"
   ]
  },
  {
   "cell_type": "code",
   "execution_count": 5,
   "id": "f51990b5",
   "metadata": {},
   "outputs": [
    {
     "name": "stdout",
     "output_type": "stream",
     "text": [
      "A is : {'A'}\n",
      "[w(A->B)=10]\n",
      "w(A->B)=10\n",
      "[w(A->C)=3]\n",
      "w(A->C)=3\n",
      "[('B', 10), ('C', 3)]\n",
      "A is : {'A', 'C'}\n",
      "[w(A->B)=10, w(C->B)=4]\n",
      "w(C->B)=4\n",
      "[w(C->E)=2]\n",
      "w(C->E)=2\n",
      "[w(C->D)=8]\n",
      "w(C->D)=8\n",
      "[('B', 7), ('E', 5), ('D', 11)]\n",
      "A is : {'A', 'E', 'C'}\n",
      "[w(A->B)=10, w(C->B)=4]\n",
      "w(C->B)=4\n",
      "[w(E->D)=9, w(C->D)=8]\n",
      "w(C->D)=8\n",
      "[('B', 7), ('D', 11)]\n",
      "A is : {'A', 'B', 'E', 'C'}\n",
      "[w(B->D)=2, w(E->D)=9, w(C->D)=8]\n",
      "w(B->D)=2\n",
      "[('D', 9)]\n"
     ]
    }
   ],
   "source": [
    "weights, priors = djikstra(G1, '')\n"
   ]
  },
  {
   "cell_type": "code",
   "execution_count": 10,
   "id": "bde9ad55",
   "metadata": {},
   "outputs": [
    {
     "data": {
      "text/plain": [
       "{'A': 0, 'C': 3, 'E': 5, 'B': 7, 'D': 9}"
      ]
     },
     "execution_count": 10,
     "metadata": {},
     "output_type": "execute_result"
    }
   ],
   "source": [
    "weights # it works for shortest path lengths!!!!\n"
   ]
  },
  {
   "cell_type": "code",
   "execution_count": 6,
   "id": "e015b571",
   "metadata": {},
   "outputs": [
    {
     "name": "stdout",
     "output_type": "stream",
     "text": [
      "{'vertices': ['E', 'D'], 'edges': [w(B->D)=2, w(C->D)=8, w(C->E)=2]}\n"
     ]
    },
    {
     "data": {
      "text/plain": [
       "[w(A->C)=3, w(B->C)=1, w(B->D)=2]"
      ]
     },
     "execution_count": 6,
     "metadata": {},
     "output_type": "execute_result"
    }
   ],
   "source": [
    "nbrs = G2.get_nbrs_set(['A', 'B'])\n",
    "print(G2.get_nbrs_set(['A', 'B', 'C']))\n",
    "nbrs['edges'] # keep track of specific edges in A-cut with incident vertices in A. "
   ]
  },
  {
   "cell_type": "code",
   "execution_count": 7,
   "id": "5c5f7aba",
   "metadata": {},
   "outputs": [
    {
     "ename": "NameError",
     "evalue": "name 'djikstra' is not defined",
     "output_type": "error",
     "traceback": [
      "\u001b[0;31m---------------------------------------------------------------------------\u001b[0m",
      "\u001b[0;31mNameError\u001b[0m                                 Traceback (most recent call last)",
      "Cell \u001b[0;32mIn[7], line 2\u001b[0m\n\u001b[1;32m      1\u001b[0m \u001b[38;5;66;03m# G1\u001b[39;00m\n\u001b[0;32m----> 2\u001b[0m weights, priors \u001b[38;5;241m=\u001b[39m djikstra(G1, \u001b[38;5;124m'\u001b[39m\u001b[38;5;124ms\u001b[39m\u001b[38;5;124m'\u001b[39m, G1\u001b[38;5;241m.\u001b[39mget_order())\n\u001b[1;32m      3\u001b[0m \u001b[38;5;28mprint\u001b[39m(weights)\n\u001b[1;32m      4\u001b[0m \u001b[38;5;28mprint\u001b[39m(priors)\n",
      "\u001b[0;31mNameError\u001b[0m: name 'djikstra' is not defined"
     ]
    }
   ],
   "source": [
    "# G1\n",
    "weights, priors = djikstra(G1, 's', G1.get_order())\n",
    "print(weights)\n",
    "print(priors)\n",
    "get_paths(priors, 's')\n"
   ]
  },
  {
   "cell_type": "code",
   "execution_count": null,
   "id": "95aca33e",
   "metadata": {},
   "outputs": [],
   "source": [
    "# G2\n",
    "# G2 shows that this Djikstra implementation is wrong, the issue is with the vertex iteration (first for loop)\n",
    "# I though topological_order would be enough but as it is, If we have C->B->D and B is processed first, \n",
    "# sp(D) = sp(B)_1 + w(B,D)  will be computed assuming the shortest distance to B ie sp(B) is known, but if it is lates improved by considering B as a nbr of C, \n",
    "# sp(D) = sp(B)_new + w(B,D) will not be updated!!! \n",
    "# funnily enough I suspect the error is in deltas = d at the end.\n",
    "#   or instead of iterating over all neighbours for v, just iterate over all nbrs INTERSECTION visited vertices, \n",
    "#   that MIGHT ensure we dont pre-entiveley compute distances with incorrect shortest paths ie sp(B) until sp(B)=delta(B)\n",
    "print(G2)\n",
    "weights, priors = djikstra(G2, 'A', G2.get_order())\n",
    "print(weights)\n",
    "print(priors)\n",
    "get_paths(priors, 'A')\n",
    "\n"
   ]
  },
  {
   "cell_type": "code",
   "execution_count": null,
   "id": "88911249",
   "metadata": {},
   "outputs": [],
   "source": []
  },
  {
   "cell_type": "code",
   "execution_count": null,
   "id": "2ce42fda",
   "metadata": {},
   "outputs": [],
   "source": []
  },
  {
   "cell_type": "code",
   "execution_count": null,
   "id": "28e53cb5",
   "metadata": {},
   "outputs": [],
   "source": [
    "\n"
   ]
  }
 ],
 "metadata": {
  "kernelspec": {
   "display_name": "Python 3 (ipykernel)",
   "language": "python",
   "name": "python3"
  },
  "language_info": {
   "codemirror_mode": {
    "name": "ipython",
    "version": 3
   },
   "file_extension": ".py",
   "mimetype": "text/x-python",
   "name": "python",
   "nbconvert_exporter": "python",
   "pygments_lexer": "ipython3",
   "version": "3.11.5"
  }
 },
 "nbformat": 4,
 "nbformat_minor": 5
}
