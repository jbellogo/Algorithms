{
 "cells": [
  {
   "cell_type": "markdown",
   "id": "20012036",
   "metadata": {},
   "source": [
    "# Graph Algorithms explorations/ informal tests\n",
    "* BFS\n",
    "* DFS\n",
    "* Djikstra's\n",
    "* Kruskal's\n",
    "* Prim's"
   ]
  },
  {
   "cell_type": "code",
   "execution_count": 1,
   "id": "557b2f76",
   "metadata": {},
   "outputs": [],
   "source": [
    "from graph_examples import G1, G2, UDIG1\n",
    "from djikstra import djikstra1, djikstra\n",
    "\n"
   ]
  },
  {
   "cell_type": "code",
   "execution_count": 2,
   "id": "6c41bf8f",
   "metadata": {},
   "outputs": [
    {
     "data": {
      "text/plain": [
       "[w(c->a)=2, w(s->c)=1, w(d->a)=3, w(d->s)=2, w(f->a)=2, w(t->a)=1]"
      ]
     },
     "execution_count": 2,
     "metadata": {},
     "output_type": "execute_result"
    }
   ],
   "source": [
    "from prim import prims\n",
    "# need to adapt to undirected graphs!!!!\n",
    "\n",
    "UDIG1.get_cut({\"a\", \"s\"})"
   ]
  },
  {
   "cell_type": "code",
   "execution_count": 3,
   "id": "a2444af7",
   "metadata": {},
   "outputs": [
    {
     "ename": "KeyboardInterrupt",
     "evalue": "",
     "output_type": "error",
     "traceback": [
      "\u001b[0;31m---------------------------------------------------------------------------\u001b[0m",
      "\u001b[0;31mKeyboardInterrupt\u001b[0m                         Traceback (most recent call last)",
      "Cell \u001b[0;32mIn[3], line 1\u001b[0m\n\u001b[0;32m----> 1\u001b[0m prims(UDIG1)\n",
      "File \u001b[0;32m~/Desktop/projects/algorithms/prim.py:13\u001b[0m, in \u001b[0;36mprims\u001b[0;34m(G)\u001b[0m\n\u001b[1;32m     11\u001b[0m T \u001b[38;5;241m=\u001b[39m []\n\u001b[1;32m     12\u001b[0m \u001b[38;5;28;01mwhile\u001b[39;00m V \u001b[38;5;241m!=\u001b[39m A:\n\u001b[0;32m---> 13\u001b[0m     delta_A \u001b[38;5;241m=\u001b[39m G\u001b[38;5;241m.\u001b[39mget_cut(A)\n\u001b[1;32m     14\u001b[0m     delta_A \u001b[38;5;241m=\u001b[39m \u001b[38;5;28msorted\u001b[39m(delta_A, key \u001b[38;5;241m=\u001b[39m \u001b[38;5;28;01mlambda\u001b[39;00m edge : edge\u001b[38;5;241m.\u001b[39mget_weight())\n\u001b[1;32m     15\u001b[0m     \u001b[38;5;66;03m# print(delta_A)\u001b[39;00m\n",
      "File \u001b[0;32m~/Desktop/projects/algorithms/graph_implementations.py:123\u001b[0m, in \u001b[0;36mUndiGraph.get_cut\u001b[0;34m(self, S)\u001b[0m\n\u001b[1;32m    121\u001b[0m     weight \u001b[38;5;241m=\u001b[39m \u001b[38;5;28mself\u001b[39m\u001b[38;5;241m.\u001b[39mE[row_index][col_index]\n\u001b[1;32m    122\u001b[0m     \u001b[38;5;28;01mif\u001b[39;00m weight \u001b[38;5;241m>\u001b[39m \u001b[38;5;241m0\u001b[39m:\n\u001b[0;32m--> 123\u001b[0m         cut\u001b[38;5;241m.\u001b[39mappend(Edge(\u001b[38;5;28mself\u001b[39m\u001b[38;5;241m.\u001b[39mV[row_index], \u001b[38;5;28mself\u001b[39m\u001b[38;5;241m.\u001b[39mV[col_index], weight))\n\u001b[1;32m    124\u001b[0m \u001b[38;5;28;01mif\u001b[39;00m row_index \u001b[38;5;241m==\u001b[39m col_index:\n\u001b[1;32m    125\u001b[0m     \u001b[38;5;28;01mbreak\u001b[39;00m \u001b[38;5;66;03m# stop after diagonal. Don't repeat yourself!\u001b[39;00m\n",
      "File \u001b[0;32m~/Desktop/projects/algorithms/graph_implementations.py:13\u001b[0m, in \u001b[0;36mEdge.__init__\u001b[0;34m(self, from_vtx, to_vtx, weight)\u001b[0m\n\u001b[1;32m      9\u001b[0m \u001b[38;5;28;01mclass\u001b[39;00m \u001b[38;5;21;01mEdge\u001b[39;00m():\n\u001b[1;32m     10\u001b[0m \u001b[38;5;250m    \u001b[39m\u001b[38;5;124;03m'''\u001b[39;00m\n\u001b[1;32m     11\u001b[0m \u001b[38;5;124;03m    Same class can be used for directed or undirected graphs, just specify in Graph class\u001b[39;00m\n\u001b[1;32m     12\u001b[0m \u001b[38;5;124;03m    '''\u001b[39;00m\n\u001b[0;32m---> 13\u001b[0m     \u001b[38;5;28;01mdef\u001b[39;00m \u001b[38;5;21m__init__\u001b[39m(\u001b[38;5;28mself\u001b[39m, from_vtx, to_vtx, weight):\n\u001b[1;32m     14\u001b[0m         \u001b[38;5;28mself\u001b[39m\u001b[38;5;241m.\u001b[39mfrom_vtx \u001b[38;5;241m=\u001b[39m from_vtx\n\u001b[1;32m     15\u001b[0m         \u001b[38;5;28mself\u001b[39m\u001b[38;5;241m.\u001b[39mto_vtx \u001b[38;5;241m=\u001b[39m to_vtx\n",
      "\u001b[0;31mKeyboardInterrupt\u001b[0m: "
     ]
    }
   ],
   "source": [
    "prims(UDIG1)"
   ]
  },
  {
   "cell_type": "code",
   "execution_count": null,
   "id": "5b33ed98",
   "metadata": {},
   "outputs": [],
   "source": [
    "print(G1)\n",
    "print(G2)"
   ]
  },
  {
   "cell_type": "code",
   "execution_count": null,
   "id": "22dd2cc6",
   "metadata": {},
   "outputs": [],
   "source": [
    "A = []\n",
    "V = ['s', 'a', 'r', 'c','b']\n",
    "for v in V:\n",
    "    A.append(v)\n",
    "    print(A)\n",
    "    print(G1.get_nbrs_set(A))\n",
    "\n",
    "[\"a\", \"b\"] == [\"b\", \"a\"]"
   ]
  },
  {
   "cell_type": "code",
   "execution_count": null,
   "id": "03c7881f",
   "metadata": {},
   "outputs": [],
   "source": []
  },
  {
   "cell_type": "code",
   "execution_count": null,
   "id": "f51990b5",
   "metadata": {},
   "outputs": [],
   "source": [
    "# weights, priors = djikstra(G1, '')\n"
   ]
  },
  {
   "cell_type": "code",
   "execution_count": null,
   "id": "93de1160",
   "metadata": {},
   "outputs": [],
   "source": [
    "weights # it works for shortest path lengths!!!!\n"
   ]
  },
  {
   "cell_type": "code",
   "execution_count": null,
   "id": "e015b571",
   "metadata": {},
   "outputs": [],
   "source": [
    "nbrs = G2.get_nbrs_set(['A', 'B'])\n",
    "print(G2.get_nbrs_set(['A', 'B', 'C']))\n",
    "nbrs['edges'] # keep track of specific edges in A-cut with incident vertices in A. "
   ]
  },
  {
   "cell_type": "code",
   "execution_count": null,
   "id": "5c5f7aba",
   "metadata": {},
   "outputs": [],
   "source": [
    "# G1\n",
    "weights, priors = djikstra(G1, 's', G1.get_order())\n",
    "print(weights)\n",
    "print(priors)\n",
    "get_paths(priors, 's')\n"
   ]
  },
  {
   "cell_type": "code",
   "execution_count": null,
   "id": "95aca33e",
   "metadata": {},
   "outputs": [],
   "source": [
    "# G2\n",
    "# G2 shows that this Djikstra implementation is wrong, the issue is with the vertex iteration (first for loop)\n",
    "# I though topological_order would be enough but as it is, If we have C->B->D and B is processed first, \n",
    "# sp(D) = sp(B)_1 + w(B,D)  will be computed assuming the shortest distance to B ie sp(B) is known, but if it is lates improved by considering B as a nbr of C, \n",
    "# sp(D) = sp(B)_new + w(B,D) will not be updated!!! \n",
    "# funnily enough I suspect the error is in deltas = d at the end.\n",
    "#   or instead of iterating over all neighbours for v, just iterate over all nbrs INTERSECTION visited vertices, \n",
    "#   that MIGHT ensure we dont pre-entiveley compute distances with incorrect shortest paths ie sp(B) until sp(B)=delta(B)\n",
    "print(G2)\n",
    "weights, priors = djikstra(G2, 'A', G2.get_order())\n",
    "print(weights)\n",
    "print(priors)\n",
    "get_paths(priors, 'A')\n",
    "\n"
   ]
  },
  {
   "cell_type": "code",
   "execution_count": null,
   "id": "88911249",
   "metadata": {},
   "outputs": [],
   "source": []
  },
  {
   "cell_type": "code",
   "execution_count": null,
   "id": "2ce42fda",
   "metadata": {},
   "outputs": [],
   "source": []
  },
  {
   "cell_type": "code",
   "execution_count": null,
   "id": "28e53cb5",
   "metadata": {},
   "outputs": [],
   "source": []
  },
  {
   "cell_type": "code",
   "execution_count": null,
   "id": "8723e754",
   "metadata": {},
   "outputs": [],
   "source": []
  },
  {
   "cell_type": "code",
   "execution_count": null,
   "id": "1b08eb61",
   "metadata": {},
   "outputs": [],
   "source": [
    "x = {{1,2}, {3,4}}\n",
    "x.add({2,1})\n",
    "x"
   ]
  }
 ],
 "metadata": {
  "kernelspec": {
   "display_name": "Python 3 (ipykernel)",
   "language": "python",
   "name": "python3"
  },
  "language_info": {
   "codemirror_mode": {
    "name": "ipython",
    "version": 3
   },
   "file_extension": ".py",
   "mimetype": "text/x-python",
   "name": "python",
   "nbconvert_exporter": "python",
   "pygments_lexer": "ipython3",
   "version": "3.11.5"
  }
 },
 "nbformat": 4,
 "nbformat_minor": 5
}
