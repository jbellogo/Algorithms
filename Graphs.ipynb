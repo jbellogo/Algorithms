{
 "cells": [
  {
   "cell_type": "markdown",
   "id": "20012036",
   "metadata": {},
   "source": [
    "# Graph Algorithms explorations/ informal tests\n",
    "* BFS\n",
    "* DFS\n",
    "* Djikstra's\n",
    "* Kruskal's\n",
    "* Prim's"
   ]
  },
  {
   "cell_type": "code",
   "execution_count": 1,
   "id": "557b2f76",
   "metadata": {},
   "outputs": [],
   "source": [
    "from graph_examples import G1, G2, UDIG1\n",
    "from djikstra import djikstra1, djikstra\n",
    "\n"
   ]
  },
  {
   "cell_type": "code",
   "execution_count": 2,
   "id": "6c41bf8f",
   "metadata": {},
   "outputs": [],
   "source": [
    "from prim import prims\n",
    "# need to adapt to undirected graphs!!!!\n"
   ]
  },
  {
   "cell_type": "code",
   "execution_count": null,
   "id": "a2444af7",
   "metadata": {},
   "outputs": [],
   "source": []
  },
  {
   "cell_type": "code",
   "execution_count": 3,
   "id": "5b33ed98",
   "metadata": {},
   "outputs": [
    {
     "name": "stdout",
     "output_type": "stream",
     "text": [
      "vertex: a, edges: [w(a->c)=2, w(a->b)=3, w(a->f)=6]\n",
      "vertex: b, edges: []\n",
      "vertex: c, edges: [w(c->f)=2, w(c->b)=1]\n",
      "vertex: f, edges: []\n",
      "vertex: s, edges: [w(s->a)=1, w(s->c)=5, w(s->r)=2]\n",
      "vertex: r, edges: [w(r->f)=4, w(r->b)=3]\n",
      "\n",
      "vertex: A, edges: [w(A->B)=10, w(A->C)=3]\n",
      "vertex: B, edges: [w(B->C)=1, w(B->D)=2]\n",
      "vertex: C, edges: [w(C->B)=4, w(C->D)=8, w(C->E)=2]\n",
      "vertex: D, edges: [w(D->E)=7]\n",
      "vertex: E, edges: [w(E->D)=9]\n",
      "\n"
     ]
    }
   ],
   "source": [
    "print(G1)\n",
    "print(G2)"
   ]
  },
  {
   "cell_type": "code",
   "execution_count": 4,
   "id": "22dd2cc6",
   "metadata": {},
   "outputs": [
    {
     "name": "stdout",
     "output_type": "stream",
     "text": [
      "['s']\n",
      "(['c', 'r', 'a'], [w(s->a)=1, w(s->c)=5, w(s->r)=2])\n",
      "['s', 'a']\n",
      "(['f', 'c', 'r', 'b'], [w(s->c)=5, w(s->r)=2, w(a->c)=2, w(a->b)=3, w(a->f)=6])\n",
      "['s', 'a', 'r']\n",
      "(['f', 'c', 'b'], [w(s->c)=5, w(a->c)=2, w(a->b)=3, w(a->f)=6, w(r->f)=4, w(r->b)=3])\n",
      "['s', 'a', 'r', 'c']\n",
      "(['f', 'b'], [w(a->b)=3, w(a->f)=6, w(r->f)=4, w(r->b)=3, w(c->f)=2, w(c->b)=1])\n",
      "['s', 'a', 'r', 'c', 'b']\n",
      "(['f'], [w(a->f)=6, w(r->f)=4, w(c->f)=2])\n"
     ]
    },
    {
     "data": {
      "text/plain": [
       "False"
      ]
     },
     "execution_count": 4,
     "metadata": {},
     "output_type": "execute_result"
    }
   ],
   "source": [
    "A = []\n",
    "V = ['s', 'a', 'r', 'c','b']\n",
    "for v in V:\n",
    "    A.append(v)\n",
    "    print(A)\n",
    "    print(G1.get_nbrs_set(A))\n",
    "\n",
    "[\"a\", \"b\"] == [\"b\", \"a\"]"
   ]
  },
  {
   "cell_type": "code",
   "execution_count": null,
   "id": "03c7881f",
   "metadata": {},
   "outputs": [],
   "source": []
  },
  {
   "cell_type": "code",
   "execution_count": 5,
   "id": "f51990b5",
   "metadata": {},
   "outputs": [],
   "source": [
    "# weights, priors = djikstra(G1, '')\n"
   ]
  },
  {
   "cell_type": "code",
   "execution_count": 6,
   "id": "93de1160",
   "metadata": {},
   "outputs": [
    {
     "ename": "NameError",
     "evalue": "name 'weights' is not defined",
     "output_type": "error",
     "traceback": [
      "\u001b[0;31m---------------------------------------------------------------------------\u001b[0m",
      "\u001b[0;31mNameError\u001b[0m                                 Traceback (most recent call last)",
      "Cell \u001b[0;32mIn[6], line 1\u001b[0m\n\u001b[0;32m----> 1\u001b[0m weights\n",
      "\u001b[0;31mNameError\u001b[0m: name 'weights' is not defined"
     ]
    }
   ],
   "source": [
    "weights # it works for shortest path lengths!!!!\n"
   ]
  },
  {
   "cell_type": "code",
   "execution_count": null,
   "id": "e015b571",
   "metadata": {},
   "outputs": [],
   "source": [
    "nbrs = G2.get_nbrs_set(['A', 'B'])\n",
    "print(G2.get_nbrs_set(['A', 'B', 'C']))\n",
    "nbrs['edges'] # keep track of specific edges in A-cut with incident vertices in A. "
   ]
  },
  {
   "cell_type": "code",
   "execution_count": null,
   "id": "5c5f7aba",
   "metadata": {},
   "outputs": [],
   "source": [
    "# G1\n",
    "weights, priors = djikstra(G1, 's', G1.get_order())\n",
    "print(weights)\n",
    "print(priors)\n",
    "get_paths(priors, 's')\n"
   ]
  },
  {
   "cell_type": "code",
   "execution_count": null,
   "id": "95aca33e",
   "metadata": {},
   "outputs": [],
   "source": [
    "# G2\n",
    "# G2 shows that this Djikstra implementation is wrong, the issue is with the vertex iteration (first for loop)\n",
    "# I though topological_order would be enough but as it is, If we have C->B->D and B is processed first, \n",
    "# sp(D) = sp(B)_1 + w(B,D)  will be computed assuming the shortest distance to B ie sp(B) is known, but if it is lates improved by considering B as a nbr of C, \n",
    "# sp(D) = sp(B)_new + w(B,D) will not be updated!!! \n",
    "# funnily enough I suspect the error is in deltas = d at the end.\n",
    "#   or instead of iterating over all neighbours for v, just iterate over all nbrs INTERSECTION visited vertices, \n",
    "#   that MIGHT ensure we dont pre-entiveley compute distances with incorrect shortest paths ie sp(B) until sp(B)=delta(B)\n",
    "print(G2)\n",
    "weights, priors = djikstra(G2, 'A', G2.get_order())\n",
    "print(weights)\n",
    "print(priors)\n",
    "get_paths(priors, 'A')\n",
    "\n"
   ]
  },
  {
   "cell_type": "code",
   "execution_count": null,
   "id": "88911249",
   "metadata": {},
   "outputs": [],
   "source": []
  },
  {
   "cell_type": "code",
   "execution_count": null,
   "id": "2ce42fda",
   "metadata": {},
   "outputs": [],
   "source": []
  },
  {
   "cell_type": "code",
   "execution_count": null,
   "id": "28e53cb5",
   "metadata": {},
   "outputs": [],
   "source": []
  },
  {
   "cell_type": "code",
   "execution_count": null,
   "id": "8723e754",
   "metadata": {},
   "outputs": [],
   "source": []
  },
  {
   "cell_type": "code",
   "execution_count": null,
   "id": "1b08eb61",
   "metadata": {},
   "outputs": [],
   "source": [
    "x = {{1,2}, {3,4}}\n",
    "x.add({2,1})\n",
    "x"
   ]
  }
 ],
 "metadata": {
  "kernelspec": {
   "display_name": "Python 3 (ipykernel)",
   "language": "python",
   "name": "python3"
  },
  "language_info": {
   "codemirror_mode": {
    "name": "ipython",
    "version": 3
   },
   "file_extension": ".py",
   "mimetype": "text/x-python",
   "name": "python",
   "nbconvert_exporter": "python",
   "pygments_lexer": "ipython3",
   "version": "3.11.5"
  }
 },
 "nbformat": 4,
 "nbformat_minor": 5
}
