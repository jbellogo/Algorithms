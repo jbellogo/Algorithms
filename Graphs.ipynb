{
 "cells": [
  {
   "cell_type": "markdown",
   "id": "20012036",
   "metadata": {},
   "source": [
    "# Graph Algorithms \n",
    "* BFS\n",
    "* DFS\n",
    "* Shortest Paths \n",
    "* Djikstra's\n",
    "* Kruskal's\n",
    "* Prim's"
   ]
  },
  {
   "cell_type": "code",
   "execution_count": 193,
   "id": "557b2f76",
   "metadata": {},
   "outputs": [],
   "source": [
    "def djikstra(G, s, ordering):\n",
    "    '''\n",
    "    s is starting node\n",
    "    ordering is the topological sort of G: necessary for iterating through vertices \n",
    "                1) without recursion\n",
    "                2) in BFS-fashion layers \n",
    "    Assume G id directed acyclic\n",
    "    '''\n",
    "    ####### initialize #######\n",
    "    # d[u]      # current distance \n",
    "    # prior[u] = v # prior of u of S.P\n",
    "    d = {node : float('inf') for node in G.get_nodes()} # all calculated distances initialized to infinity.\n",
    "    d[s] = 0 # distance of root s\n",
    "    priors = {s:s} # no initialization required. indexed by vertices so name them whatever you want.\n",
    "    currrent_vertex = s\n",
    "    \n",
    "    for v in ordering:\n",
    "        nbrs = G.get_nbrs(v)\n",
    "        # for all nbr \\in {neighbours of s} we must consider:\n",
    "        #    1) their weights with v vertex (w(v, nbr))\n",
    "        #    2) their current S.P calculated  (d_nbr)\n",
    "        # then check if S.P should be updated by comparing d_nbr > d_v + w(v, nbr) \n",
    "        for nbr, weight in nbrs:\n",
    "            d_new = weight + d[v]\n",
    "            if d_new < d[nbr]:\n",
    "                # we've found a new shortest path\n",
    "                priors[nbr] = v # update prior vertex to current \n",
    "                d[nbr] = d_new\n",
    "                \n",
    "    deltas = d\n",
    "    return (deltas, priors)"
   ]
  },
  {
   "cell_type": "code",
   "execution_count": 194,
   "id": "e015b571",
   "metadata": {},
   "outputs": [
    {
     "name": "stdout",
     "output_type": "stream",
     "text": [
      "vertex: a, edges: ['w(ac)=2', 'w(ab)=3', 'w(af)=6']\n",
      "vertex: b, edges: []\n",
      "vertex: c, edges: ['w(cf)=2', 'w(cb)=1']\n",
      "vertex: f, edges: []\n",
      "vertex: s, edges: ['w(sa)=1', 'w(sc)=5', 'w(sr)=2']\n",
      "vertex: r, edges: ['w(rf)=4', 'w(rb)=3']\n",
      "\n"
     ]
    }
   ],
   "source": [
    "from graph_examples import G1\n",
    "G1_topological_ordering = ['s', 'a', 'r', 'c', 'b', 'f'] # in ascending sv-path weight forall s\n",
    "print(G1)"
   ]
  },
  {
   "cell_type": "code",
   "execution_count": 195,
   "id": "5c5f7aba",
   "metadata": {},
   "outputs": [
    {
     "name": "stdout",
     "output_type": "stream",
     "text": [
      "{'a': 1, 'b': 4, 'c': 3, 'f': 5, 's': 0, 'r': 2}\n",
      "{'s': 's', 'a': 's', 'c': 'a', 'r': 's', 'b': 'a', 'f': 'c'}\n"
     ]
    }
   ],
   "source": [
    "weights, priors = djikstra(G1, 's', topological_ordering)\n",
    "print(weights)\n",
    "print(priors)"
   ]
  },
  {
   "cell_type": "code",
   "execution_count": 196,
   "id": "95aca33e",
   "metadata": {},
   "outputs": [
    {
     "data": {
      "text/plain": [
       "{'s': ('s', 0),\n",
       " 'a': ('sa', 1),\n",
       " 'c': ('sac', 3),\n",
       " 'r': ('sr', 2),\n",
       " 'b': ('sab', 4),\n",
       " 'f': ('sacf', 5)}"
      ]
     },
     "execution_count": 196,
     "metadata": {},
     "output_type": "execute_result"
    }
   ],
   "source": [
    "# rewritting the path obtained from priors::[] \n",
    "def vs_path(v, root, priors):\n",
    "    \n",
    "    '''\n",
    "    recursiveley calculates sv-path from root=s to v given a list of priors produced by Djikstra\n",
    "    '''\n",
    "    # base case\n",
    "    if v == root: \n",
    "        return v\n",
    "    # return compound with recursion on strict input subset \n",
    "    return vs_path(priors[v], root, priors) + v\n",
    "\n",
    "\n",
    "\n",
    "def get_paths(priors, root):\n",
    "    stp = {}\n",
    "    for v in priors.keys():\n",
    "        path= vs_path(v, root, priors)\n",
    "        stp[v] = (path, weights[v]) \n",
    "    return stp\n",
    "\n",
    "get_paths(priors, 's')\n",
    "\n",
    "# print(vs_path('c', 's', priors))\n"
   ]
  }
 ],
 "metadata": {
  "kernelspec": {
   "display_name": "Python 3 (ipykernel)",
   "language": "python",
   "name": "python3"
  },
  "language_info": {
   "codemirror_mode": {
    "name": "ipython",
    "version": 3
   },
   "file_extension": ".py",
   "mimetype": "text/x-python",
   "name": "python",
   "nbconvert_exporter": "python",
   "pygments_lexer": "ipython3",
   "version": "3.11.5"
  }
 },
 "nbformat": 4,
 "nbformat_minor": 5
}
