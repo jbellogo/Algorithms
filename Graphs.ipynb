{
 "cells": [
  {
   "cell_type": "markdown",
   "id": "20012036",
   "metadata": {},
   "source": [
    "# Graph Algorithms explorations/ informal tests\n",
    "* BFS\n",
    "* DFS\n",
    "* Djikstra's\n",
    "* Kruskal's\n",
    "* Prim's"
   ]
  },
  {
   "cell_type": "code",
   "execution_count": 1,
   "id": "557b2f76",
   "metadata": {},
   "outputs": [],
   "source": [
    "from graph_examples import G1, G2\n",
    "\n"
   ]
  },
  {
   "cell_type": "code",
   "execution_count": 2,
   "id": "6c41bf8f",
   "metadata": {},
   "outputs": [],
   "source": [
    "from prim import prims\n",
    "# need to adapt to undirected graphs!!!!\n"
   ]
  },
  {
   "cell_type": "code",
   "execution_count": 3,
   "id": "a2444af7",
   "metadata": {},
   "outputs": [
    {
     "name": "stdout",
     "output_type": "stream",
     "text": [
      "{'s'} has nbrs [w(s->a)=1, w(s->c)=5, w(s->r)=2]\n"
     ]
    },
    {
     "ename": "TypeError",
     "evalue": "'int' object is not callable",
     "output_type": "error",
     "traceback": [
      "\u001b[0;31m---------------------------------------------------------------------------\u001b[0m",
      "\u001b[0;31mTypeError\u001b[0m                                 Traceback (most recent call last)",
      "Cell \u001b[0;32mIn[3], line 1\u001b[0m\n\u001b[0;32m----> 1\u001b[0m prims(G1)\n",
      "File \u001b[0;32m~/Desktop/projects/algorithms/prim.py:12\u001b[0m, in \u001b[0;36mprims\u001b[0;34m(G)\u001b[0m\n\u001b[1;32m     10\u001b[0m _, edge_nbrs \u001b[38;5;241m=\u001b[39m G\u001b[38;5;241m.\u001b[39mget_nbrs_set(A)\n\u001b[1;32m     11\u001b[0m \u001b[38;5;28mprint\u001b[39m(\u001b[38;5;124mf\u001b[39m\u001b[38;5;124m\"\u001b[39m\u001b[38;5;132;01m{\u001b[39;00mA\u001b[38;5;132;01m}\u001b[39;00m\u001b[38;5;124m has nbrs \u001b[39m\u001b[38;5;132;01m{\u001b[39;00medge_nbrs\u001b[38;5;132;01m}\u001b[39;00m\u001b[38;5;124m\"\u001b[39m)\n\u001b[0;32m---> 12\u001b[0m e \u001b[38;5;241m=\u001b[39m \u001b[38;5;28mmin\u001b[39m(edge_nbrs, key \u001b[38;5;241m=\u001b[39m \u001b[38;5;28;01mlambda\u001b[39;00m edge : edge\u001b[38;5;241m.\u001b[39mweight())\n\u001b[1;32m     13\u001b[0m \u001b[38;5;28mprint\u001b[39m(e)\n",
      "File \u001b[0;32m~/Desktop/projects/algorithms/prim.py:12\u001b[0m, in \u001b[0;36mprims.<locals>.<lambda>\u001b[0;34m(edge)\u001b[0m\n\u001b[1;32m     10\u001b[0m _, edge_nbrs \u001b[38;5;241m=\u001b[39m G\u001b[38;5;241m.\u001b[39mget_nbrs_set(A)\n\u001b[1;32m     11\u001b[0m \u001b[38;5;28mprint\u001b[39m(\u001b[38;5;124mf\u001b[39m\u001b[38;5;124m\"\u001b[39m\u001b[38;5;132;01m{\u001b[39;00mA\u001b[38;5;132;01m}\u001b[39;00m\u001b[38;5;124m has nbrs \u001b[39m\u001b[38;5;132;01m{\u001b[39;00medge_nbrs\u001b[38;5;132;01m}\u001b[39;00m\u001b[38;5;124m\"\u001b[39m)\n\u001b[0;32m---> 12\u001b[0m e \u001b[38;5;241m=\u001b[39m \u001b[38;5;28mmin\u001b[39m(edge_nbrs, key \u001b[38;5;241m=\u001b[39m \u001b[38;5;28;01mlambda\u001b[39;00m edge : edge\u001b[38;5;241m.\u001b[39mweight())\n\u001b[1;32m     13\u001b[0m \u001b[38;5;28mprint\u001b[39m(e)\n",
      "\u001b[0;31mTypeError\u001b[0m: 'int' object is not callable"
     ]
    }
   ],
   "source": []
  },
  {
   "cell_type": "code",
   "execution_count": null,
   "id": "5b33ed98",
   "metadata": {},
   "outputs": [],
   "source": [
    "print(G1)\n",
    "print(G2)"
   ]
  },
  {
   "cell_type": "code",
   "execution_count": null,
   "id": "22dd2cc6",
   "metadata": {},
   "outputs": [],
   "source": [
    "A = []\n",
    "V = ['s', 'a', 'r', 'c','b']\n",
    "for v in V:\n",
    "    A.append(v)\n",
    "    print(A)\n",
    "    print(G1.get_nbrs_set(A))\n",
    "\n",
    "[\"a\", \"b\"] == [\"b\", \"a\"]"
   ]
  },
  {
   "cell_type": "code",
   "execution_count": null,
   "id": "03c7881f",
   "metadata": {},
   "outputs": [],
   "source": [
    "from djikstra import djikstra1, djikstra\n"
   ]
  },
  {
   "cell_type": "code",
   "execution_count": null,
   "id": "f51990b5",
   "metadata": {},
   "outputs": [],
   "source": [
    "weights, priors = djikstra(G1, '')\n"
   ]
  },
  {
   "cell_type": "code",
   "execution_count": null,
   "id": "93de1160",
   "metadata": {},
   "outputs": [],
   "source": [
    "weights # it works for shortest path lengths!!!!\n"
   ]
  },
  {
   "cell_type": "code",
   "execution_count": null,
   "id": "e015b571",
   "metadata": {},
   "outputs": [],
   "source": [
    "nbrs = G2.get_nbrs_set(['A', 'B'])\n",
    "print(G2.get_nbrs_set(['A', 'B', 'C']))\n",
    "nbrs['edges'] # keep track of specific edges in A-cut with incident vertices in A. "
   ]
  },
  {
   "cell_type": "code",
   "execution_count": null,
   "id": "5c5f7aba",
   "metadata": {},
   "outputs": [],
   "source": [
    "# G1\n",
    "weights, priors = djikstra(G1, 's', G1.get_order())\n",
    "print(weights)\n",
    "print(priors)\n",
    "get_paths(priors, 's')\n"
   ]
  },
  {
   "cell_type": "code",
   "execution_count": null,
   "id": "95aca33e",
   "metadata": {},
   "outputs": [],
   "source": [
    "# G2\n",
    "# G2 shows that this Djikstra implementation is wrong, the issue is with the vertex iteration (first for loop)\n",
    "# I though topological_order would be enough but as it is, If we have C->B->D and B is processed first, \n",
    "# sp(D) = sp(B)_1 + w(B,D)  will be computed assuming the shortest distance to B ie sp(B) is known, but if it is lates improved by considering B as a nbr of C, \n",
    "# sp(D) = sp(B)_new + w(B,D) will not be updated!!! \n",
    "# funnily enough I suspect the error is in deltas = d at the end.\n",
    "#   or instead of iterating over all neighbours for v, just iterate over all nbrs INTERSECTION visited vertices, \n",
    "#   that MIGHT ensure we dont pre-entiveley compute distances with incorrect shortest paths ie sp(B) until sp(B)=delta(B)\n",
    "print(G2)\n",
    "weights, priors = djikstra(G2, 'A', G2.get_order())\n",
    "print(weights)\n",
    "print(priors)\n",
    "get_paths(priors, 'A')\n",
    "\n"
   ]
  },
  {
   "cell_type": "code",
   "execution_count": 2,
   "id": "88911249",
   "metadata": {},
   "outputs": [],
   "source": [
    "########## Undirected graphs Matrix implementation \n",
    "import numpy as np"
   ]
  },
  {
   "cell_type": "code",
   "execution_count": 4,
   "id": "2ce42fda",
   "metadata": {},
   "outputs": [
    {
     "data": {
      "text/plain": [
       "array([[0, 1, 1, 1, 1, 1],\n",
       "       [1, 0, 1, 0, 0, 1],\n",
       "       [1, 1, 0, 1, 0, 0],\n",
       "       [1, 0, 1, 0, 1, 0],\n",
       "       [1, 0, 0, 1, 0, 1],\n",
       "       [1, 1, 0, 0, 1, 0]])"
      ]
     },
     "execution_count": 4,
     "metadata": {},
     "output_type": "execute_result"
    }
   ],
   "source": [
    "V = ['a', 'c', 's', 'd', 'f', 't']\n",
    "E = np.array([[0,1,1,1,1,1],\n",
    "             [1,0,1,0,0,1],\n",
    "             [1,1,0,1,0,0],\n",
    "             [1,0,1,0,1,0],\n",
    "             [1,0,0,1,0,1],\n",
    "             [1,1,0,0,1,0]])"
   ]
  },
  {
   "cell_type": "code",
   "execution_count": 28,
   "id": "28e53cb5",
   "metadata": {},
   "outputs": [],
   "source": [
    "def is_subset(subset, bigset):\n",
    "    return subset.intersection(bigset) == subset\n",
    "\n",
    "\n",
    "class UndirectedG():\n",
    "    def __init__(self, V, E):\n",
    "        self.V = V\n",
    "        self.E = E\n",
    "        '''\n",
    "        Let E be a numpt array matrix\n",
    "        E = [\n",
    "        [row1]\n",
    "        row2\n",
    "        ]\n",
    "        '''\n",
    "    def _get_index(self, v):\n",
    "        '''v in V'''\n",
    "        return self.V.index(v)\n",
    "\n",
    "    def get_cut(self, S):\n",
    "        '''S \\subset V'''\n",
    "        indices = [] # 0,1,2,3\n",
    "        cut = []\n",
    "        for v in S:\n",
    "            indices.append(self._get_index(v))\n",
    "        for row_index, col in enumerate(self.E):\n",
    "            for col_index, edge_bool in enumerate(col):\n",
    "                include = not is_subset(set([row_index, col_index]), set(indices))\n",
    "                include &= (row_index in indices or col_index in indices)\n",
    "                if include:\n",
    "                    if self.E[row_index][col_index] == 1:\n",
    "                        cut.append((self.V[row_index], self.V[col_index]))\n",
    "        #lazy solution to remove duplicates:\n",
    "        for a,b in cut:\n",
    "            pass # not as easy as you thought. \n",
    "            \n",
    "        return cut\n",
    "\n",
    "                        \n",
    "                    \n",
    "                    \n",
    "\n",
    "            \n",
    "            \n",
    "            \n",
    "            \n",
    "        \n",
    "\n"
   ]
  },
  {
   "cell_type": "code",
   "execution_count": 29,
   "id": "216cfe45",
   "metadata": {},
   "outputs": [
    {
     "data": {
      "text/plain": [
       "[('a', 'c'),\n",
       " ('a', 'd'),\n",
       " ('a', 't'),\n",
       " ('c', 'a'),\n",
       " ('c', 's'),\n",
       " ('s', 'c'),\n",
       " ('s', 'd'),\n",
       " ('d', 'a'),\n",
       " ('d', 's'),\n",
       " ('d', 'f'),\n",
       " ('f', 'd'),\n",
       " ('f', 't'),\n",
       " ('t', 'a'),\n",
       " ('t', 'f')]"
      ]
     },
     "execution_count": 29,
     "metadata": {},
     "output_type": "execute_result"
    }
   ],
   "source": [
    "G = UndirectedG(V, E)\n",
    "G.get_cut(['s', 'a', 'f'])"
   ]
  },
  {
   "cell_type": "code",
   "execution_count": 22,
   "id": "dadb859a",
   "metadata": {},
   "outputs": [
    {
     "ename": "TypeError",
     "evalue": "unhashable type: 'set'",
     "output_type": "error",
     "traceback": [
      "\u001b[0;31m---------------------------------------------------------------------------\u001b[0m",
      "\u001b[0;31mTypeError\u001b[0m                                 Traceback (most recent call last)",
      "Cell \u001b[0;32mIn[22], line 1\u001b[0m\n\u001b[0;32m----> 1\u001b[0m x \u001b[38;5;241m=\u001b[39m {{\u001b[38;5;241m1\u001b[39m,\u001b[38;5;241m2\u001b[39m}, {\u001b[38;5;241m3\u001b[39m,\u001b[38;5;241m4\u001b[39m}}\n\u001b[1;32m      2\u001b[0m x\u001b[38;5;241m.\u001b[39madd({\u001b[38;5;241m2\u001b[39m,\u001b[38;5;241m1\u001b[39m})\n\u001b[1;32m      3\u001b[0m x\n",
      "\u001b[0;31mTypeError\u001b[0m: unhashable type: 'set'"
     ]
    }
   ],
   "source": [
    "x = {{1,2}, {3,4}}\n",
    "x.add({2,1})\n",
    "x"
   ]
  }
 ],
 "metadata": {
  "kernelspec": {
   "display_name": "Python 3 (ipykernel)",
   "language": "python",
   "name": "python3"
  },
  "language_info": {
   "codemirror_mode": {
    "name": "ipython",
    "version": 3
   },
   "file_extension": ".py",
   "mimetype": "text/x-python",
   "name": "python",
   "nbconvert_exporter": "python",
   "pygments_lexer": "ipython3",
   "version": "3.11.5"
  }
 },
 "nbformat": 4,
 "nbformat_minor": 5
}
