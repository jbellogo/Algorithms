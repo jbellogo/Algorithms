{
 "cells": [
  {
   "cell_type": "markdown",
   "id": "20012036",
   "metadata": {},
   "source": [
    "# Graph Algorithms \n",
    "* BFS\n",
    "* DFS\n",
    "* Shortest Paths \n",
    "* Djikstra's\n",
    "* Kruskal's\n",
    "* Prim's"
   ]
  },
  {
   "cell_type": "code",
   "execution_count": 64,
   "id": "4fc695e3",
   "metadata": {},
   "outputs": [],
   "source": [
    "# DiGraph Implementations \n",
    "'''\n",
    "Naive mathematical implementaiton\n",
    "V = [1,2,3]\n",
    "E = [12, 13, 32]\n",
    "running time is bad for operations on E\n",
    "\n",
    "we want to be able instantly know where we can go from vertex v\n",
    "'''\n",
    "        \n",
    "        \n",
    "class GraphAdjacencyList():\n",
    "    '''\n",
    "    n = 3\n",
    "    V = [1,2,3]\n",
    "    E = {1:[2,3], 2:[], 3:[2]} #\n",
    "    how to implement weights?\n",
    "    E = {\n",
    "        v:[(u,w(v,u)) forall u in N(v)]\n",
    "    }\n",
    "    E = {\n",
    "    'a':[('c', 2),('b', 3),('f', 6)], \n",
    "    'b':[], \n",
    "    'c':[('f',2),('b',1)]\n",
    "    }\n",
    "\n",
    "    '''\n",
    "    def __init__(self, edges):\n",
    "#         self.nodes = list(range(1, num_nodes))\n",
    "        self.edges = edges\n",
    "        \n",
    "    def get_nodes(self):\n",
    "        return [key for key in self.edges.keys()]\n",
    "    \n",
    "    def get_nbrs(self, v):\n",
    "        return self.edges[v]\n",
    "    \n",
    "#     def get_edges(self):\n",
    "#         return self.edges\n",
    "\n",
    "    def __str__(self):\n",
    "        graph = \"\"\n",
    "        for v, adj in self.edges.items():\n",
    "            edges = [f'w({v + key})={val}' for key,val in adj]\n",
    "            graph += f\"vertex: {v}, edges: {edges}\\n\"\n",
    "        return graph\n",
    "\n",
    "# Graph = {v:[(u,w(uv))]} forall neighbours u of v forall v in V\n",
    "# Graph = {v:[Edges]}\n",
    "# class Edge:\n",
    "#     def __init__(self, start_v, end_v, weight):\n",
    "#         self.edge = (start_v, end_v, weight)\n",
    "    \n",
    "    \n"
   ]
  },
  {
   "cell_type": "code",
   "execution_count": 74,
   "id": "abf76b60",
   "metadata": {},
   "outputs": [],
   "source": [
    "\n",
    "def djikstra(G, s, ordering):\n",
    "    '''\n",
    "    s : starting node\n",
    "    **** Assume G is topologically sorted:\n",
    "    (this is necessary for iterating through vertices 1) without recursion, and 2) in BFS-fashion layers \n",
    "    pass topological ordering for vertex iteration\n",
    "    '''\n",
    "    ####### initialize #######\n",
    "    # d[u]      # current distance \n",
    "    # prior[u] = v # prior of u of S.P\n",
    "    d = {node : float('inf') for node in G.get_nodes()} # all calculated distances initialized to infinity.\n",
    "    d[s] = 0 # distance of root s\n",
    "    priors = {s:s} # no initialization required. indexed by vertices so name them whatever you want.\n",
    "    currrent_vertex = s\n",
    "    \n",
    "    for v in ordering:\n",
    "        nbrs = G.get_nbrs(v)\n",
    "        d_s = d[v]\n",
    "        # for all v \\in {neighbours of s} we must consider:\n",
    "        #    1) their weights with s vertex (w(s,v))\n",
    "        #    2) their S.P calculated  (d_v)\n",
    "        # then check if S.P should be updated by comparing d_v > d_s + w(s,v) \n",
    "        for nbr, weight in nbrs:\n",
    "            # all incident edges considered\n",
    "            d_new = weight + d_s\n",
    "#             print(f\"for v={v}\\n d_s={d_s}\\n d_new = {weight}+{d_s}\")\n",
    "            if d_new < d[nbr]:\n",
    "                # we've found a new shortest path\n",
    "                priors[nbr] = v # update prior vertex to current \n",
    "                d[nbr] = d_s + d_new\n",
    "                \n",
    "    deltas = d\n",
    "    return (deltas, priors)"
   ]
  },
  {
   "cell_type": "code",
   "execution_count": 75,
   "id": "76ee08eb",
   "metadata": {},
   "outputs": [
    {
     "name": "stdout",
     "output_type": "stream",
     "text": [
      "vertex: a, edges: ['w(ac)=2', 'w(ab)=3', 'w(af)=6']\n",
      "vertex: b, edges: []\n",
      "vertex: c, edges: ['w(cf)=2', 'w(cb)=1']\n",
      "vertex: f, edges: []\n",
      "vertex: s, edges: ['w(sa)=1', 'w(sc)=5', 'w(sr)=2']\n",
      "vertex: r, edges: ['w(rf)=4', 'w(rb)=3']\n",
      "\n"
     ]
    }
   ],
   "source": [
    "G1 = {\n",
    "    'a':[\n",
    "        ('c', 2),\n",
    "        ('b', 3),\n",
    "        ('f', 6)\n",
    "    ], \n",
    "    'b':[], \n",
    "    'c':[\n",
    "        ('f',2),\n",
    "        ('b',1)\n",
    "    ],\n",
    "    'f':[],\n",
    "    's':[\n",
    "        ('a',1),\n",
    "        ('c',5),\n",
    "        ('r',2)\n",
    "    ],\n",
    "    'r':[\n",
    "        ('f',4),\n",
    "        ('b',3)\n",
    "    ]\n",
    "}\n",
    "\n",
    "\n",
    "G = GraphAdjacencyList(G1)\n",
    "\n",
    "print(G)\n",
    "\n",
    "topological_ordering = ['s', 'a', 'r', 'c', 'b', 'f'] # in ascending sv-path weight forall s\n"
   ]
  },
  {
   "cell_type": "code",
   "execution_count": 76,
   "id": "17ca35c7",
   "metadata": {},
   "outputs": [
    {
     "name": "stdout",
     "output_type": "stream",
     "text": [
      "for v=s\n",
      " d_s=0\n",
      " d_new = 1+0\n",
      "for v=s\n",
      " d_s=0\n",
      " d_new = 5+0\n",
      "for v=s\n",
      " d_s=0\n",
      " d_new = 2+0\n",
      "for v=a\n",
      " d_s=1\n",
      " d_new = 2+1\n",
      "for v=a\n",
      " d_s=1\n",
      " d_new = 3+1\n",
      "for v=a\n",
      " d_s=1\n",
      " d_new = 6+1\n",
      "for v=r\n",
      " d_s=2\n",
      " d_new = 4+2\n",
      "for v=r\n",
      " d_s=2\n",
      " d_new = 3+2\n",
      "for v=c\n",
      " d_s=4\n",
      " d_new = 2+4\n",
      "for v=c\n",
      " d_s=4\n",
      " d_new = 1+4\n"
     ]
    },
    {
     "data": {
      "text/plain": [
       "({'a': 1, 'b': 5, 'c': 4, 'f': 10, 's': 0, 'r': 2},\n",
       " {'s': 's', 'a': 's', 'c': 'a', 'r': 's', 'b': 'a', 'f': 'c'})"
      ]
     },
     "execution_count": 76,
     "metadata": {},
     "output_type": "execute_result"
    }
   ],
   "source": [
    "djikstra(G, 's', topological_ordering)"
   ]
  }
 ],
 "metadata": {
  "kernelspec": {
   "display_name": "Python 3 (ipykernel)",
   "language": "python",
   "name": "python3"
  },
  "language_info": {
   "codemirror_mode": {
    "name": "ipython",
    "version": 3
   },
   "file_extension": ".py",
   "mimetype": "text/x-python",
   "name": "python",
   "nbconvert_exporter": "python",
   "pygments_lexer": "ipython3",
   "version": "3.11.5"
  }
 },
 "nbformat": 4,
 "nbformat_minor": 5
}
