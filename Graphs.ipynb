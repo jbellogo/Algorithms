{
 "cells": [
  {
   "cell_type": "markdown",
   "id": "20012036",
   "metadata": {},
   "source": [
    "# Graph Algorithms explorations/ informal tests\n",
    "* BFS\n",
    "* DFS\n",
    "* Djikstra's\n",
    "* Kruskal's\n",
    "* Prim's"
   ]
  },
  {
   "cell_type": "code",
   "execution_count": 1,
   "id": "557b2f76",
   "metadata": {},
   "outputs": [],
   "source": [
    "from graph_examples import G1, G2\n",
    "\n"
   ]
  },
  {
   "cell_type": "code",
   "execution_count": 2,
   "id": "6c41bf8f",
   "metadata": {},
   "outputs": [],
   "source": [
    "from prim import prims\n",
    "# need to adapt to undirected graphs!!!!\n"
   ]
  },
  {
   "cell_type": "code",
   "execution_count": 3,
   "id": "a2444af7",
   "metadata": {},
   "outputs": [
    {
     "name": "stdout",
     "output_type": "stream",
     "text": [
      "{'s'} has nbrs [w(s->a)=1, w(s->c)=5, w(s->r)=2]\n"
     ]
    },
    {
     "ename": "TypeError",
     "evalue": "'int' object is not callable",
     "output_type": "error",
     "traceback": [
      "\u001b[0;31m---------------------------------------------------------------------------\u001b[0m",
      "\u001b[0;31mTypeError\u001b[0m                                 Traceback (most recent call last)",
      "Cell \u001b[0;32mIn[3], line 1\u001b[0m\n\u001b[0;32m----> 1\u001b[0m prims(G1)\n",
      "File \u001b[0;32m~/Desktop/projects/algorithms/prim.py:12\u001b[0m, in \u001b[0;36mprims\u001b[0;34m(G)\u001b[0m\n\u001b[1;32m     10\u001b[0m _, edge_nbrs \u001b[38;5;241m=\u001b[39m G\u001b[38;5;241m.\u001b[39mget_nbrs_set(A)\n\u001b[1;32m     11\u001b[0m \u001b[38;5;28mprint\u001b[39m(\u001b[38;5;124mf\u001b[39m\u001b[38;5;124m\"\u001b[39m\u001b[38;5;132;01m{\u001b[39;00mA\u001b[38;5;132;01m}\u001b[39;00m\u001b[38;5;124m has nbrs \u001b[39m\u001b[38;5;132;01m{\u001b[39;00medge_nbrs\u001b[38;5;132;01m}\u001b[39;00m\u001b[38;5;124m\"\u001b[39m)\n\u001b[0;32m---> 12\u001b[0m e \u001b[38;5;241m=\u001b[39m \u001b[38;5;28mmin\u001b[39m(edge_nbrs, key \u001b[38;5;241m=\u001b[39m \u001b[38;5;28;01mlambda\u001b[39;00m edge : edge\u001b[38;5;241m.\u001b[39mweight())\n\u001b[1;32m     13\u001b[0m \u001b[38;5;28mprint\u001b[39m(e)\n",
      "File \u001b[0;32m~/Desktop/projects/algorithms/prim.py:12\u001b[0m, in \u001b[0;36mprims.<locals>.<lambda>\u001b[0;34m(edge)\u001b[0m\n\u001b[1;32m     10\u001b[0m _, edge_nbrs \u001b[38;5;241m=\u001b[39m G\u001b[38;5;241m.\u001b[39mget_nbrs_set(A)\n\u001b[1;32m     11\u001b[0m \u001b[38;5;28mprint\u001b[39m(\u001b[38;5;124mf\u001b[39m\u001b[38;5;124m\"\u001b[39m\u001b[38;5;132;01m{\u001b[39;00mA\u001b[38;5;132;01m}\u001b[39;00m\u001b[38;5;124m has nbrs \u001b[39m\u001b[38;5;132;01m{\u001b[39;00medge_nbrs\u001b[38;5;132;01m}\u001b[39;00m\u001b[38;5;124m\"\u001b[39m)\n\u001b[0;32m---> 12\u001b[0m e \u001b[38;5;241m=\u001b[39m \u001b[38;5;28mmin\u001b[39m(edge_nbrs, key \u001b[38;5;241m=\u001b[39m \u001b[38;5;28;01mlambda\u001b[39;00m edge : edge\u001b[38;5;241m.\u001b[39mweight())\n\u001b[1;32m     13\u001b[0m \u001b[38;5;28mprint\u001b[39m(e)\n",
      "\u001b[0;31mTypeError\u001b[0m: 'int' object is not callable"
     ]
    }
   ],
   "source": []
  },
  {
   "cell_type": "code",
   "execution_count": null,
   "id": "5b33ed98",
   "metadata": {},
   "outputs": [],
   "source": [
    "print(G1)\n",
    "print(G2)"
   ]
  },
  {
   "cell_type": "code",
   "execution_count": null,
   "id": "22dd2cc6",
   "metadata": {},
   "outputs": [],
   "source": [
    "A = []\n",
    "V = ['s', 'a', 'r', 'c','b']\n",
    "for v in V:\n",
    "    A.append(v)\n",
    "    print(A)\n",
    "    print(G1.get_nbrs_set(A))\n",
    "\n",
    "[\"a\", \"b\"] == [\"b\", \"a\"]"
   ]
  },
  {
   "cell_type": "code",
   "execution_count": null,
   "id": "03c7881f",
   "metadata": {},
   "outputs": [],
   "source": [
    "from djikstra import djikstra1, djikstra\n"
   ]
  },
  {
   "cell_type": "code",
   "execution_count": null,
   "id": "f51990b5",
   "metadata": {},
   "outputs": [],
   "source": [
    "weights, priors = djikstra(G1, '')\n"
   ]
  },
  {
   "cell_type": "code",
   "execution_count": null,
   "id": "93de1160",
   "metadata": {},
   "outputs": [],
   "source": [
    "weights # it works for shortest path lengths!!!!\n"
   ]
  },
  {
   "cell_type": "code",
   "execution_count": null,
   "id": "e015b571",
   "metadata": {},
   "outputs": [],
   "source": [
    "nbrs = G2.get_nbrs_set(['A', 'B'])\n",
    "print(G2.get_nbrs_set(['A', 'B', 'C']))\n",
    "nbrs['edges'] # keep track of specific edges in A-cut with incident vertices in A. "
   ]
  },
  {
   "cell_type": "code",
   "execution_count": null,
   "id": "5c5f7aba",
   "metadata": {},
   "outputs": [],
   "source": [
    "# G1\n",
    "weights, priors = djikstra(G1, 's', G1.get_order())\n",
    "print(weights)\n",
    "print(priors)\n",
    "get_paths(priors, 's')\n"
   ]
  },
  {
   "cell_type": "code",
   "execution_count": null,
   "id": "95aca33e",
   "metadata": {},
   "outputs": [],
   "source": [
    "# G2\n",
    "# G2 shows that this Djikstra implementation is wrong, the issue is with the vertex iteration (first for loop)\n",
    "# I though topological_order would be enough but as it is, If we have C->B->D and B is processed first, \n",
    "# sp(D) = sp(B)_1 + w(B,D)  will be computed assuming the shortest distance to B ie sp(B) is known, but if it is lates improved by considering B as a nbr of C, \n",
    "# sp(D) = sp(B)_new + w(B,D) will not be updated!!! \n",
    "# funnily enough I suspect the error is in deltas = d at the end.\n",
    "#   or instead of iterating over all neighbours for v, just iterate over all nbrs INTERSECTION visited vertices, \n",
    "#   that MIGHT ensure we dont pre-entiveley compute distances with incorrect shortest paths ie sp(B) until sp(B)=delta(B)\n",
    "print(G2)\n",
    "weights, priors = djikstra(G2, 'A', G2.get_order())\n",
    "print(weights)\n",
    "print(priors)\n",
    "get_paths(priors, 'A')\n",
    "\n"
   ]
  },
  {
   "cell_type": "code",
   "execution_count": null,
   "id": "88911249",
   "metadata": {},
   "outputs": [],
   "source": []
  },
  {
   "cell_type": "code",
   "execution_count": null,
   "id": "2ce42fda",
   "metadata": {},
   "outputs": [],
   "source": []
  },
  {
   "cell_type": "code",
   "execution_count": null,
   "id": "28e53cb5",
   "metadata": {},
   "outputs": [],
   "source": [
    "\n"
   ]
  }
 ],
 "metadata": {
  "kernelspec": {
   "display_name": "Python 3 (ipykernel)",
   "language": "python",
   "name": "python3"
  },
  "language_info": {
   "codemirror_mode": {
    "name": "ipython",
    "version": 3
   },
   "file_extension": ".py",
   "mimetype": "text/x-python",
   "name": "python",
   "nbconvert_exporter": "python",
   "pygments_lexer": "ipython3",
   "version": "3.11.5"
  }
 },
 "nbformat": 4,
 "nbformat_minor": 5
}
