{
 "cells": [
  {
   "cell_type": "markdown",
   "id": "4318310d",
   "metadata": {},
   "source": [
    "# Complete graph tests Q1"
   ]
  },
  {
   "cell_type": "code",
   "execution_count": 5,
   "id": "d402a58f",
   "metadata": {},
   "outputs": [],
   "source": [
    "def generate_complete_graph(V, r):\n",
    "    weight = 1\n",
    "    with open(\"input.txt\", \"w\") as file1:\n",
    "        file1.write(f\"{V} {int(V * (V-1)/2)} {r}\\n\")\n",
    "        for u in range(V):\n",
    "            for v in range(u+1, V):\n",
    "                file1.write(f\"{u} {v} {weight}\\n\")\n",
    "                weight+=1\n",
    "\n",
    "generate_complete_graph(5, 0)\n"
   ]
  },
  {
   "cell_type": "code",
   "execution_count": 15,
   "id": "53623005",
   "metadata": {},
   "outputs": [
    {
     "data": {
      "text/plain": [
       "1000000000000000000"
      ]
     },
     "execution_count": 15,
     "metadata": {},
     "output_type": "execute_result"
    }
   ],
   "source": [
    "(10**9)*(10**9)"
   ]
  },
  {
   "cell_type": "code",
   "execution_count": 17,
   "id": "7e3c33b5",
   "metadata": {},
   "outputs": [],
   "source": [
    "def generate_massive_graph():\n",
    "    n = 10**5\n",
    "    m = 10**5-1\n",
    "    r = 0\n",
    "    weight = 10**9\n",
    "    with open(\"massive_in.txt\", \"w\") as file1:\n",
    "        file1.write(f\"{n} {m} {r}\\n\")\n",
    "        for i in range(m):\n",
    "            file1.write(f\"{i} {i+1} {weight}\\n\")\n",
    "\n",
    "generate_massive_graph()\n"
   ]
  }
 ],
 "metadata": {
  "kernelspec": {
   "display_name": "Python 3 (ipykernel)",
   "language": "python",
   "name": "python3"
  },
  "language_info": {
   "codemirror_mode": {
    "name": "ipython",
    "version": 3
   },
   "file_extension": ".py",
   "mimetype": "text/x-python",
   "name": "python",
   "nbconvert_exporter": "python",
   "pygments_lexer": "ipython3",
   "version": "3.11.5"
  }
 },
 "nbformat": 4,
 "nbformat_minor": 5
}
