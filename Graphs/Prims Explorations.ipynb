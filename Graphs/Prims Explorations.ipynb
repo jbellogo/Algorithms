{
 "cells": [
  {
   "cell_type": "markdown",
   "id": "c67f36eb",
   "metadata": {},
   "source": [
    "# Understanding prim's implementation \n",
    "https://www.geeksforgeeks.org/prims-algorithm-using-priority_queue-stl/"
   ]
  },
  {
   "cell_type": "code",
   "execution_count": 96,
   "id": "513da353",
   "metadata": {},
   "outputs": [],
   "source": []
  },
  {
   "cell_type": "code",
   "execution_count": 70,
   "id": "2c4c5f2c",
   "metadata": {},
   "outputs": [],
   "source": []
  },
  {
   "cell_type": "markdown",
   "id": "8f3c5ef1",
   "metadata": {},
   "source": [
    "## Adjacency list representation "
   ]
  },
  {
   "cell_type": "code",
   "execution_count": 42,
   "id": "7b65370b",
   "metadata": {},
   "outputs": [
    {
     "name": "stdout",
     "output_type": "stream",
     "text": [
      "[[(1, 1), (7, 2)], [(0, 1), (2, 2), (7, 2)], [(1, 2), (3, 2), (8, 2), (5, 2)], [(2, 2), (4, 2), (5, 1)], [(3, 2), (5, 2)], [(2, 2), (3, 1), (4, 2), (6, 1)], [(5, 1), (7, 1), (8, 2)], [(0, 2), (1, 2), (6, 1), (8, 2)], [(2, 2), (6, 2), (7, 2)]]\n"
     ]
    },
    {
     "data": {
      "text/plain": [
       "{0: [(1, 1), (7, 2)],\n",
       " 1: [(0, 1), (2, 2), (7, 2)],\n",
       " 2: [(1, 2), (3, 2), (8, 2), (5, 2)],\n",
       " 3: [(2, 2), (4, 2), (5, 1)],\n",
       " 4: [(3, 2), (5, 2)],\n",
       " 5: [(2, 2), (3, 1), (4, 2), (6, 1)],\n",
       " 6: [(5, 1), (7, 1), (8, 2)],\n",
       " 7: [(0, 2), (1, 2), (6, 1), (8, 2)],\n",
       " 8: [(2, 2), (6, 2), (7, 2)]}"
      ]
     },
     "execution_count": 42,
     "metadata": {},
     "output_type": "execute_result"
    }
   ],
   "source": [
    "# Adjacency list is indexed by from_vertex\n",
    "# it is a list of tuples in the form (to_vertex, weight)\n",
    "# it has duplicated entries permuting from and to vertices\n",
    "AdjLst = g.adj\n",
    "print(AdjLst)\n",
    "# It has this form but it more efficient to workwith if a little less intuitive\n",
    "# v : [(u1, w(vu1)), (u2, w(vu2)), (u3, w(vu3))...]  ## Represent edges incident on v\n",
    "{ v: nbrs for v, nbrs in enumerate(AdjLst) }\n",
    "\n"
   ]
  },
  {
   "cell_type": "markdown",
   "id": "0bf45ee1",
   "metadata": {},
   "source": [
    "## Priority Queues "
   ]
  },
  {
   "cell_type": "code",
   "execution_count": 16,
   "id": "ec119b5f",
   "metadata": {},
   "outputs": [
    {
     "name": "stdout",
     "output_type": "stream",
     "text": [
      "Note how it is kept sorted in ascending order of priority:\n",
      "[(-3, 'A'), (0, 'A'), (1, 'B'), (2, 'C'), (3, 'D'), (3, 'D')]\n",
      "And when we pop from it we take the lowest priority elem first (left pop), here: (-3, 'A')\n",
      "[(0, 'A'), (2, 'C'), (1, 'B'), (3, 'D'), (3, 'D')]\n"
     ]
    }
   ],
   "source": [
    "pq = []\n",
    "heapq.heappush(pq, (0, \"A\"))  # (priority, Obj)\n",
    "heapq.heappush(pq, (-3, \"A\"))\n",
    "heapq.heappush(pq, (1, \"B\"))\n",
    "heapq.heappush(pq, (2, \"C\"))\n",
    "heapq.heappush(pq, (3, \"D\"))\n",
    "heapq.heappush(pq, (3, \"D\"))\n",
    "print(\"Note how it is kept sorted in ascending order of priority:\")\n",
    "print(pq)\n",
    "u = heapq.heappop(pq)\n",
    "print(f\"And when we pop from it we take the lowest priority elem first (left pop), here: {u}\")\n",
    "print(pq)\n",
    "\n"
   ]
  },
  {
   "cell_type": "markdown",
   "id": "8807677d",
   "metadata": {},
   "source": [
    "# TEsts"
   ]
  },
  {
   "cell_type": "code",
   "execution_count": 258,
   "id": "24bf70e1",
   "metadata": {},
   "outputs": [],
   "source": [
    "import heapq\n",
    "\n",
    "    # This class represents a directed graph using adjacency list representation\n",
    "class Graph:\n",
    "    def __init__(self, V):\n",
    "        self.V = V\n",
    "        self.adj = [[] for _ in range(V)]\n",
    "\n",
    "    # Function to add an edge to the graph\n",
    "    def add_edge(self, u, v, w):\n",
    "        self.adj[u].append((v, w))\n",
    "        self.adj[v].append((u, w))\n",
    "        \n",
    "\n",
    "    def maxConnectedOnes(self, k):\n",
    "        pq = [] # Priority queue to store vertices that are being processed\n",
    "        src = 0 # Taking vertex 0 as the source\n",
    "\n",
    "        key = [float('inf')] * self.V\n",
    "        parent = [-1] * self.V\n",
    "        in_mst = [False] * self.V\n",
    "        heapq.heappush(pq, (0, src))\n",
    "        key[src] = 0 \n",
    "        \n",
    "        CURR_CONSECUTIVE_ONES = 0\n",
    "        cocs = [] # priority queue to store sizes of connected-ones-clusters \"COCs\"\n",
    "        \n",
    "        while pq:\n",
    "            u = heapq.heappop(pq)[1] \n",
    "    \n",
    "            if in_mst[u]:\n",
    "                continue\n",
    "\n",
    "            in_mst[u] = True\n",
    "\n",
    "            #####################################\n",
    "            print(f\"{parent[u]}->{u}, w(uv) = {key[u]}\")\n",
    "            # the last count doesn't get ADDED!!!! @TODO \n",
    "            # need to keep this stuff in a list?\n",
    "            if key[u] == 1: \n",
    "                CURR_CONSECUTIVE_ONES += 1\n",
    "            else:\n",
    "                if CURR_CONSECUTIVE_ONES != 0:                        \n",
    "                    heapq.heappush(cocs, CURR_CONSECUTIVE_ONES)\n",
    "                    CURR_CONSECUTIVE_ONES = 0\n",
    "#             print(f\"{CURR_CONSECUTIVE_ONES}/{MAX_CONSECUTIVE_ONES}\") \n",
    "#             print(f\"w: {key[u]}, coc: {CURR_CONSECUTIVE_ONES}\")\n",
    "\n",
    "            if CURR_CONSECUTIVE_ONES >= k:\n",
    "                return k\n",
    "\n",
    "            #####################################\n",
    "            for v, weight in self.adj[u]:\n",
    "                if not in_mst[v] and key[v] > weight:\n",
    "                    key[v] = weight\n",
    "                    heapq.heappush(pq, (key[v], v))\n",
    "                    parent[v] = u\n",
    "        \n",
    "        if CURR_CONSECUTIVE_ONES != 0:\n",
    "            # about to end, wrap up the last block of 1s\n",
    "            heapq.heappush(cocs, CURR_CONSECUTIVE_ONES)\n",
    "\n",
    "        ANS = 0\n",
    "        print(cocs)\n",
    "        while cocs:\n",
    "            block_len = heapq.heappop(cocs)\n",
    "            print(f\"k={k}, blocklen={block_len}\")\n",
    "            if block_len < k:\n",
    "                # use all the ones.\n",
    "                ANS += block_len \n",
    "                ANS += 2  # The constants are for the in between 2 edge\n",
    "                k -= block_len\n",
    "                k -=1\n",
    "            else:\n",
    "                # We're done. use as many as you \n",
    "                ANS += k\n",
    "                k = 0\n",
    "            print(f\" ANS:{ANS}, new_k: {k}\")\n",
    "        if k != 0:\n",
    "            ANS += 2*k # fill remaining with 2s\n",
    "        return ANS\n",
    "        \n",
    "    \n"
   ]
  },
  {
   "cell_type": "code",
   "execution_count": null,
   "id": "1c98dcd8",
   "metadata": {},
   "outputs": [],
   "source": [
    "def generate_graph(q_oneW_edges, V):\n",
    "    # (1,2), (2,3) .... all of which have weoght one\n",
    "    # just make sure you order them in input\n",
    "    g = Graph(V)\n",
    "    for u in range(V):\n",
    "        for v in range(u+1, V):\n",
    "            if q_oneW_edges != []:\n",
    "                x,y = q_oneW_edges[0]\n",
    "                if u==x and y==v:\n",
    "                    g.add_edge(u,v, 1)\n",
    "#                     print(f\"{u},{v},1*\")\n",
    "                    q_oneW_edges.pop(0)\n",
    "                else:\n",
    "                    g.add_edge(u,v, 2)\n",
    "#                     print(f\"{u},{v},2\")\n",
    "            else:\n",
    "                g.add_edge(u,v, 2)\n",
    "#                 print(f\"{u},{v},2\")\n",
    "\n",
    "#                 g.add_edge(u,v, 2)\n",
    "    return g\n",
    "\n"
   ]
  },
  {
   "cell_type": "code",
   "execution_count": 156,
   "id": "e46f9b6f",
   "metadata": {},
   "outputs": [],
   "source": [
    "def generate_input(q_oneW_edges, V, k):\n",
    "    # (1,2), (2,3) .... all of which have weoght one\n",
    "    # just make sure you order them in input\n",
    "    with open(\"input.txt\", \"w\") as file1:\n",
    "        file1.write(f\"{V} {k}\\n\")\n",
    "        for u in range(V):\n",
    "            for v in range(u+1, V):\n",
    "                wri = \"\"\n",
    "                if q_oneW_edges != []:\n",
    "                    x,y = q_oneW_edges[0]\n",
    "                    if u==x and y==v:\n",
    "                        wri = f\"{u} {v} {1}\\n\"\n",
    "                        q_oneW_edges.pop(0)\n",
    "                    else:\n",
    "                        wri = f\"{u} {v} {2}\\n\"\n",
    "                else:\n",
    "                    wri = f\"{u} {v} {2}\\n\"\n",
    "                # Writing data to a file\n",
    "                file1.write(wri)\n",
    "\n"
   ]
  },
  {
   "cell_type": "code",
   "execution_count": 274,
   "id": "697167c4",
   "metadata": {},
   "outputs": [
    {
     "name": "stdout",
     "output_type": "stream",
     "text": [
      "-1->0, w(uv) = 0\n",
      "0->1, w(uv) = 2\n",
      "1->2, w(uv) = 1\n",
      "1->3, w(uv) = 1\n",
      "-1->0, w(uv) = 0\n",
      "0->1, w(uv) = 2\n",
      "1->2, w(uv) = 1\n",
      "1->3, w(uv) = 1\n",
      "0->4, w(uv) = 2\n",
      "0->5, w(uv) = 2\n",
      "5->6, w(uv) = 1\n",
      "5->7, w(uv) = 1\n",
      "[2, 2]\n",
      "k=3, blocklen=2\n",
      " ANS:4, new_k: 0\n",
      "k=0, blocklen=2\n",
      " ANS:4, new_k: 0\n",
      "-1->0, w(uv) = 0\n",
      "0->1, w(uv) = 2\n",
      "1->2, w(uv) = 1\n",
      "1->3, w(uv) = 1\n",
      "0->4, w(uv) = 2\n",
      "0->5, w(uv) = 2\n",
      "5->6, w(uv) = 1\n",
      "5->7, w(uv) = 1\n",
      "[2, 2]\n",
      "k=4, blocklen=2\n",
      " ANS:4, new_k: 1\n",
      "k=1, blocklen=2\n",
      " ANS:5, new_k: 0\n",
      "-1->0, w(uv) = 0\n",
      "0->1, w(uv) = 2\n",
      "1->2, w(uv) = 1\n",
      "1->3, w(uv) = 1\n",
      "0->4, w(uv) = 2\n",
      "0->5, w(uv) = 2\n",
      "5->6, w(uv) = 1\n",
      "5->7, w(uv) = 1\n",
      "[2, 2]\n",
      "k=5, blocklen=2\n",
      " ANS:4, new_k: 2\n",
      "k=2, blocklen=2\n",
      " ANS:6, new_k: 0\n",
      "-1->0, w(uv) = 0\n",
      "0->1, w(uv) = 2\n",
      "1->2, w(uv) = 1\n",
      "1->3, w(uv) = 1\n",
      "0->4, w(uv) = 2\n",
      "0->5, w(uv) = 2\n",
      "5->6, w(uv) = 1\n",
      "5->7, w(uv) = 1\n",
      "[2, 2]\n",
      "k=6, blocklen=2\n",
      " ANS:4, new_k: 3\n",
      "k=3, blocklen=2\n",
      " ANS:8, new_k: 0\n",
      "-1->0, w(uv) = 0\n",
      "0->1, w(uv) = 2\n",
      "1->2, w(uv) = 1\n",
      "1->3, w(uv) = 1\n",
      "0->4, w(uv) = 2\n",
      "0->5, w(uv) = 2\n",
      "5->6, w(uv) = 1\n",
      "5->7, w(uv) = 1\n",
      "[2, 2]\n",
      "k=7, blocklen=2\n",
      " ANS:4, new_k: 4\n",
      "k=4, blocklen=2\n",
      " ANS:8, new_k: 1\n",
      "-1->0, w(uv) = 0\n",
      "0->3, w(uv) = 1\n",
      "0->1, w(uv) = 2\n",
      "1->2, w(uv) = 1\n",
      "[1, 1]\n",
      "k=2, blocklen=1\n",
      " ANS:3, new_k: 0\n",
      "k=0, blocklen=1\n",
      " ANS:3, new_k: 0\n",
      "-1->0, w(uv) = 0\n",
      "0->3, w(uv) = 1\n",
      "0->1, w(uv) = 2\n",
      "1->2, w(uv) = 1\n",
      "[1, 1]\n",
      "k=3, blocklen=1\n",
      " ANS:3, new_k: 1\n",
      "k=1, blocklen=1\n",
      " ANS:4, new_k: 0\n"
     ]
    }
   ],
   "source": [
    "#### This is a good example\n",
    "# n=8\n",
    "# k=7\n",
    "\n",
    "g = generate_graph([(1,2),(1,3), (2,3), (5,6),(5,7), (6,7)], 8)\n",
    "\n",
    "# generate_input([(1,2),(1,3), (2,3), (5,6),(5,7), (6,7)], 8, 2)\n",
    "# generate_input([(1,2),(1,3), (2,3), (5,6),(5,7), (6,7)], 8, 3)\n",
    "# generate_input([(1,2),(1,3), (2,3), (5,6),(5,7), (6,7)], 8, 4)\n",
    "# generate_input([(1,2),(1,3), (2,3), (5,6),(5,7), (6,7)], 8, 5)\n",
    "# generate_input([(1,2),(1,3), (2,3), (5,6),(5,7), (6,7)], 8, 6)\n",
    "# generate_input([(1,2),(1,3), (2,3), (5,6),(5,7), (6,7)], 8, 7)\n",
    "\n",
    "\n",
    "assert(g.maxConnectedOnes(2) == 2)\n",
    "assert(g.maxConnectedOnes(3) == 4)\n",
    "assert(g.maxConnectedOnes(4) == 5)\n",
    "assert(g.maxConnectedOnes(5) == 6)\n",
    "assert(g.maxConnectedOnes(6) == 8)\n",
    "assert(g.maxConnectedOnes(7) == 10)\n",
    "\n",
    "\n",
    "# ##### GREAT NOW THIS IS WRONG.....\n",
    "S1 = generate_graph([(0,3),(1,2)], 4)\n",
    "generate_input([(0,3),(1,2)], 4, 2)\n",
    "assert(S1.maxConnectedOnes(2) == 3)\n",
    "assert(S1.maxConnectedOnes(3) == 4)\n"
   ]
  },
  {
   "cell_type": "code",
   "execution_count": 125,
   "id": "8c9716ce",
   "metadata": {},
   "outputs": [],
   "source": [
    "g = Graph(9)\n",
    "\n",
    "# Making the above shown graph\n",
    "g.add_edge(0, 1, 1)\n",
    "g.add_edge(0, 7, 2)\n",
    "g.add_edge(1, 2, 2)\n",
    "g.add_edge(1, 7, 2)\n",
    "g.add_edge(2, 3, 2)\n",
    "g.add_edge(2, 8, 2)\n",
    "g.add_edge(2, 5, 2)\n",
    "g.add_edge(3, 4, 2)\n",
    "g.add_edge(3, 5, 1)\n",
    "g.add_edge(4, 5, 2)\n",
    "g.add_edge(5, 6, 1)\n",
    "g.add_edge(6, 7, 1)\n",
    "g.add_edge(6, 8, 2)\n",
    "g.add_edge(7, 8, 2)"
   ]
  },
  {
   "cell_type": "code",
   "execution_count": 167,
   "id": "4987d4bc",
   "metadata": {},
   "outputs": [
    {
     "name": "stdout",
     "output_type": "stream",
     "text": [
      "-1->0, w(uv) = 0\n",
      "0->1, w(uv) = 1\n",
      "0->2, w(uv) = 1\n",
      "0->3, w(uv) = 1\n",
      "0->4, w(uv) = 1\n",
      "0->5, w(uv) = 1\n",
      "[0, 1, 1, 1, 1, 1]\n"
     ]
    }
   ],
   "source": [
    "G3 = Graph(6)\n",
    "G3.add_edge(0,1, 1)\n",
    "G3.add_edge(0,2, 1)\n",
    "G3.add_edge(0,3, 1)\n",
    "G3.add_edge(0,4, 1)\n",
    "G3.add_edge(0,5, 1)\n",
    "G3.add_edge(5,1, 1)\n",
    "G3.add_edge(1,2, 1)\n",
    "G3.add_edge(2,3, 1)\n",
    "G3.add_edge(3,4, 1)\n",
    "G3.add_edge(4,5, 1)\n",
    "G3.add_edge(1,4, 1)\n",
    "G3.maxConnectedOnes(5)\n"
   ]
  },
  {
   "cell_type": "code",
   "execution_count": 129,
   "id": "0ad114ce",
   "metadata": {},
   "outputs": [],
   "source": [
    "G32 = Graph(6)\n",
    "G32.add_edge(0,1, 2)\n",
    "G32.add_edge(0,2, 2)\n",
    "G32.add_edge(0,3, 2)\n",
    "G32.add_edge(0,4, 1)\n",
    "G32.add_edge(0,5, 1)\n",
    "G32.add_edge(5,1, 2)\n",
    "G32.add_edge(1,2, 2)\n",
    "G32.add_edge(2,3, 2)\n",
    "G32.add_edge(3,4, 2)\n",
    "G32.add_edge(4,5, 1)\n",
    "G32.add_edge(1,4, 1)\n",
    "\n",
    "assert(G32.maxConnectedOnes(5)==3)\n",
    "assert(G3.maxConnectedOnes(3)==3)\n",
    "assert(G3.maxConnectedOnes(2)==2)"
   ]
  },
  {
   "cell_type": "code",
   "execution_count": 132,
   "id": "6bccfe98",
   "metadata": {},
   "outputs": [],
   "source": [
    "g = generate_graph([(1,2), (1,3), (6,7)], 9)\n",
    "assert(g.maxConnectedOnes(8)==2)\n",
    "assert(g.maxConnectedOnes(2)==2)\n"
   ]
  },
  {
   "cell_type": "code",
   "execution_count": 160,
   "id": "5cb4dc55",
   "metadata": {},
   "outputs": [],
   "source": [
    "generate_input([(1,2),(1,3),(1,5), (3,7), (4,7), (4,20), (4,100), (4,200), (4, 300), (5,6),(5,7), (6,7)], 345, 11)\n"
   ]
  },
  {
   "cell_type": "code",
   "execution_count": 134,
   "id": "b814d262",
   "metadata": {},
   "outputs": [],
   "source": [
    "g = generate_graph([(1,2), (1,3), (6,7)], 500)\n",
    "assert(g.maxConnectedOnes(499)==2)\n"
   ]
  },
  {
   "cell_type": "code",
   "execution_count": 136,
   "id": "66edf7ca",
   "metadata": {},
   "outputs": [],
   "source": [
    "g = generate_graph([(1,2),(1,4), (2,3), (3,4)], 500)\n",
    "assert(g.maxConnectedOnes(499)==3)\n"
   ]
  },
  {
   "cell_type": "code",
   "execution_count": 140,
   "id": "d6e329be",
   "metadata": {},
   "outputs": [],
   "source": [
    "g = generate_graph([(1,2),(1,3),(1,5), (3,7), (4,7), (4,20), (4,100), (4,200), (4, 300), (5,6),(5,7), (6,7)], 500)\n",
    "assert(g.maxConnectedOnes(499)==10)\n"
   ]
  },
  {
   "cell_type": "code",
   "execution_count": 162,
   "id": "d2df9b8b",
   "metadata": {},
   "outputs": [],
   "source": [
    "generate_input([\n",
    "    (1,2), (1,3), (2,3), (20, 30), (20, 50), (30, 50), (30, 55), (30, 91),(50, 55), (60,70), (80, 90),\n",
    "    (91, 92), (91, 93), (91, 94), (91, 95), (91, 96), (91, 97)\n",
    "], 120, 11)\n"
   ]
  },
  {
   "cell_type": "code",
   "execution_count": null,
   "id": "1e2c0486",
   "metadata": {},
   "outputs": [],
   "source": [
    "# Driver program to test methods of the graph class\n",
    "if __name__ == \"__main__\":\n",
    "    # Create the graph given in the above figure\n",
    "    V = 9\n",
    "    g = Graph(V)\n",
    "\n",
    "    # Making the above shown graph\n",
    "    g.add_edge(0, 1, 4)\n",
    "    g.add_edge(0, 7, 8)\n",
    "    g.add_edge(1, 2, 8)\n",
    "    g.add_edge(1, 7, 11)\n",
    "    g.add_edge(2, 3, 7)\n",
    "    g.add_edge(2, 8, 2)\n",
    "    g.add_edge(2, 5, 4)\n",
    "    g.add_edge(3, 4, 9)\n",
    "    g.add_edge(3, 5, 14)\n",
    "    g.add_edge(4, 5, 10)\n",
    "    g.add_edge(5, 6, 2)\n",
    "    g.add_edge(6, 7, 1)\n",
    "    g.add_edge(6, 8, 6)\n",
    "    g.add_edge(7, 8, 7)\n",
    "\n",
    "    g.prim_mst()\n"
   ]
  }
 ],
 "metadata": {
  "kernelspec": {
   "display_name": "Python 3 (ipykernel)",
   "language": "python",
   "name": "python3"
  },
  "language_info": {
   "codemirror_mode": {
    "name": "ipython",
    "version": 3
   },
   "file_extension": ".py",
   "mimetype": "text/x-python",
   "name": "python",
   "nbconvert_exporter": "python",
   "pygments_lexer": "ipython3",
   "version": "3.11.5"
  }
 },
 "nbformat": 4,
 "nbformat_minor": 5
}
