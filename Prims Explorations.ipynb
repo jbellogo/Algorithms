{
 "cells": [
  {
   "cell_type": "markdown",
   "id": "4cb5500f",
   "metadata": {},
   "source": [
    "# Understanding prim's implementation \n",
    "https://www.geeksforgeeks.org/prims-algorithm-using-priority_queue-stl/"
   ]
  },
  {
   "cell_type": "code",
   "execution_count": 3,
   "id": "c9285965",
   "metadata": {},
   "outputs": [],
   "source": [
    "import heapq\n",
    "\n",
    "    # This class represents a directed graph using adjacency list representation\n",
    "class Graph:\n",
    "    def __init__(self, V):\n",
    "        self.V = V\n",
    "        self.adj = [[] for _ in range(V)]\n",
    "\n",
    "    # Function to add an edge to the graph\n",
    "    def add_edge(self, u, v, w):\n",
    "        self.adj[u].append((v, w))\n",
    "        self.adj[v].append((u, w))\n",
    "        \n",
    "V = 9\n",
    "g = Graph(V)\n",
    "\n",
    "# Making the above shown graph\n",
    "g.add_edge(0, 1, 4)\n",
    "g.add_edge(0, 7, 8)\n",
    "g.add_edge(1, 2, 8)\n",
    "g.add_edge(1, 7, 11)\n",
    "g.add_edge(2, 3, 7)\n",
    "g.add_edge(2, 8, 2)\n",
    "g.add_edge(2, 5, 4)\n",
    "g.add_edge(3, 4, 9)\n",
    "g.add_edge(3, 5, 14)\n",
    "g.add_edge(4, 5, 10)\n",
    "g.add_edge(5, 6, 2)\n",
    "g.add_edge(6, 7, 1)\n",
    "g.add_edge(6, 8, 6)\n",
    "g.add_edge(7, 8, 7)"
   ]
  },
  {
   "cell_type": "markdown",
   "id": "07e4e115",
   "metadata": {},
   "source": [
    "## Adjacency list representation "
   ]
  },
  {
   "cell_type": "code",
   "execution_count": 5,
   "id": "63082fa4",
   "metadata": {},
   "outputs": [
    {
     "name": "stdout",
     "output_type": "stream",
     "text": [
      "[[(1, 4), (7, 8)], [(0, 4), (2, 8), (7, 11)], [(1, 8), (3, 7), (8, 2), (5, 4)], [(2, 7), (4, 9), (5, 14)], [(3, 9), (5, 10)], [(2, 4), (3, 14), (4, 10), (6, 2)], [(5, 2), (7, 1), (8, 6)], [(0, 8), (1, 11), (6, 1), (8, 7)], [(2, 2), (6, 6), (7, 7)]]\n"
     ]
    },
    {
     "data": {
      "text/plain": [
       "{0: [(1, 4), (7, 8)],\n",
       " 1: [(0, 4), (2, 8), (7, 11)],\n",
       " 2: [(1, 8), (3, 7), (8, 2), (5, 4)],\n",
       " 3: [(2, 7), (4, 9), (5, 14)],\n",
       " 4: [(3, 9), (5, 10)],\n",
       " 5: [(2, 4), (3, 14), (4, 10), (6, 2)],\n",
       " 6: [(5, 2), (7, 1), (8, 6)],\n",
       " 7: [(0, 8), (1, 11), (6, 1), (8, 7)],\n",
       " 8: [(2, 2), (6, 6), (7, 7)]}"
      ]
     },
     "execution_count": 5,
     "metadata": {},
     "output_type": "execute_result"
    }
   ],
   "source": [
    "# Adjacency list is indexed by from_vertex\n",
    "# it is a list of tuples in the form (to_vertex, weight)\n",
    "# it has duplicated entries permuting from and to vertices\n",
    "AdjLst = g.adj\n",
    "print(AdjLst)\n",
    "# It has this form but it more efficient to workwith if a little less intuitive\n",
    "# v : [(u1, w(vu1)), (u2, w(vu2)), (u3, w(vu3))...]\n",
    "{ v: nbrs for v, nbrs in enumerate(AdjLst) }\n",
    "\n"
   ]
  },
  {
   "cell_type": "markdown",
   "id": "513c4c58",
   "metadata": {},
   "source": [
    "## Priority Queues "
   ]
  },
  {
   "cell_type": "code",
   "execution_count": 16,
   "id": "9cd44c42",
   "metadata": {},
   "outputs": [
    {
     "name": "stdout",
     "output_type": "stream",
     "text": [
      "Note how it is kept sorted in ascending order of priority:\n",
      "[(-3, 'A'), (0, 'A'), (1, 'B'), (2, 'C'), (3, 'D'), (3, 'D')]\n",
      "And when we pop from it we take the lowest priority elem first (left pop), here: (-3, 'A')\n",
      "[(0, 'A'), (2, 'C'), (1, 'B'), (3, 'D'), (3, 'D')]\n"
     ]
    }
   ],
   "source": [
    "pq = []\n",
    "heapq.heappush(pq, (0, \"A\"))  # (priority, Obj)\n",
    "heapq.heappush(pq, (-3, \"A\"))\n",
    "heapq.heappush(pq, (1, \"B\"))\n",
    "heapq.heappush(pq, (2, \"C\"))\n",
    "heapq.heappush(pq, (3, \"D\"))\n",
    "heapq.heappush(pq, (3, \"D\"))\n",
    "print(\"Note how it is kept sorted in ascending order of priority:\")\n",
    "print(pq)\n",
    "u = heapq.heappop(pq)\n",
    "print(f\"And when we pop from it we take the lowest priority elem first (left pop), here: {u}\")\n",
    "print(pq)\n",
    "\n"
   ]
  },
  {
   "cell_type": "code",
   "execution_count": null,
   "id": "7cf9538a",
   "metadata": {},
   "outputs": [],
   "source": []
  },
  {
   "cell_type": "code",
   "execution_count": null,
   "id": "0beb7482",
   "metadata": {},
   "outputs": [],
   "source": [
    "# Function to print MST using Prim's algorithm\n",
    "def prim_mst(V, AdjE):\n",
    "    '''\n",
    "    Should't pass AdjE unless it's a pointer. prim_mst should be a method but I separated it to play with it.\n",
    "    '''\n",
    "    pq = [] # Priority queue to store vertices that are being processed\n",
    "    src = 0 # Taking vertex 0 as the source\n",
    "\n",
    "    # Create a list for keys and initialize all keys as infinite (INF)\n",
    "    key = [float('inf')] * self.V\n",
    "\n",
    "    # To store the parent array which, in turn, stores MST\n",
    "    parent = [-1] * self.V\n",
    "\n",
    "    # To keep track of vertices included in MST\n",
    "    in_mst = [False] * self.V\n",
    "\n",
    "    # Insert source itself into the priority queue and initialize its key as 0\n",
    "    heapq.heappush(pq, (0, src))\n",
    "    key[src] = 0\n",
    "\n",
    "    # Loop until the priority queue becomes empty\n",
    "    while pq:\n",
    "        # The first vertex in the pair is the minimum key vertex\n",
    "        # Extract it from the priority queue\n",
    "        # The vertex label is stored in the second of the pair\n",
    "        u = heapq.heappop(pq)[1]\n",
    "\n",
    "        # Different key values for the same vertex may exist in the priority queue.\n",
    "        # The one with the least key value is always processed first.\n",
    "        # Therefore, ignore the rest.\n",
    "        if in_mst[u]:\n",
    "            continue\n",
    "\n",
    "        in_mst[u] = True # Include the vertex in MST\n",
    "\n",
    "        # Iterate through all adjacent vertices of a vertex\n",
    "        for v, weight in self.adj[u]:\n",
    "            # If v is not in MST and the weight of (u, v) is smaller than the current key of v\n",
    "            if not in_mst[v] and key[v] > weight:\n",
    "                # Update the key of v\n",
    "                key[v] = weight\n",
    "                heapq.heappush(pq, (key[v], v))\n",
    "                parent[v] = u\n",
    "\n",
    "    # Print edges of MST using the parent array\n",
    "    for i in range(1, self.V):\n",
    "        print(f\"{parent[i]} - {i}\")\n"
   ]
  },
  {
   "cell_type": "code",
   "execution_count": null,
   "id": "75887389",
   "metadata": {},
   "outputs": [],
   "source": []
  },
  {
   "cell_type": "code",
   "execution_count": null,
   "id": "dd18d5f5",
   "metadata": {},
   "outputs": [],
   "source": []
  },
  {
   "cell_type": "code",
   "execution_count": null,
   "id": "1b9237f4",
   "metadata": {},
   "outputs": [],
   "source": []
  },
  {
   "cell_type": "code",
   "execution_count": null,
   "id": "394f9417",
   "metadata": {},
   "outputs": [],
   "source": []
  },
  {
   "cell_type": "code",
   "execution_count": null,
   "id": "fce992c9",
   "metadata": {},
   "outputs": [],
   "source": []
  },
  {
   "cell_type": "code",
   "execution_count": null,
   "id": "eb1a5ccb",
   "metadata": {},
   "outputs": [],
   "source": []
  },
  {
   "cell_type": "code",
   "execution_count": null,
   "id": "50d68c43",
   "metadata": {},
   "outputs": [],
   "source": [
    "# Driver program to test methods of the graph class\n",
    "if __name__ == \"__main__\":\n",
    "    # Create the graph given in the above figure\n",
    "    V = 9\n",
    "    g = Graph(V)\n",
    "\n",
    "    # Making the above shown graph\n",
    "    g.add_edge(0, 1, 4)\n",
    "    g.add_edge(0, 7, 8)\n",
    "    g.add_edge(1, 2, 8)\n",
    "    g.add_edge(1, 7, 11)\n",
    "    g.add_edge(2, 3, 7)\n",
    "    g.add_edge(2, 8, 2)\n",
    "    g.add_edge(2, 5, 4)\n",
    "    g.add_edge(3, 4, 9)\n",
    "    g.add_edge(3, 5, 14)\n",
    "    g.add_edge(4, 5, 10)\n",
    "    g.add_edge(5, 6, 2)\n",
    "    g.add_edge(6, 7, 1)\n",
    "    g.add_edge(6, 8, 6)\n",
    "    g.add_edge(7, 8, 7)\n",
    "\n",
    "    g.prim_mst()\n"
   ]
  }
 ],
 "metadata": {
  "kernelspec": {
   "display_name": "Python 3 (ipykernel)",
   "language": "python",
   "name": "python3"
  },
  "language_info": {
   "codemirror_mode": {
    "name": "ipython",
    "version": 3
   },
   "file_extension": ".py",
   "mimetype": "text/x-python",
   "name": "python",
   "nbconvert_exporter": "python",
   "pygments_lexer": "ipython3",
   "version": "3.11.5"
  }
 },
 "nbformat": 4,
 "nbformat_minor": 5
}
