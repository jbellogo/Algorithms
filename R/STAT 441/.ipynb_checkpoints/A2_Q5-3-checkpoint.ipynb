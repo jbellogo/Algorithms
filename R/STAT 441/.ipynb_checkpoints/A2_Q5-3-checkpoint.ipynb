{
 "cells": [
  {
   "cell_type": "markdown",
   "id": "7f6c7d9f-c1fa-4b43-89b1-804215b53079",
   "metadata": {},
   "source": [
    "**Notes:** \n",
    "\n",
    "\n",
    "* Indicator features in X are not scaled. Only Age is scaled.\n",
    "* test/train split consists of only testing with Katniss, and excluding her observation from training.\n",
    "* k-cross-validation. k set to 5.\n",
    "* Scoring criterion used was accuracy (default)."
   ]
  },
  {
   "cell_type": "markdown",
   "id": "5cab892c-72e3-41fe-84a7-d0251abc953d",
   "metadata": {},
   "source": [
    "# a)"
   ]
  },
  {
   "cell_type": "code",
   "execution_count": 13,
   "id": "6c75cdcc-64cb-49c7-8cdc-400409472c6e",
   "metadata": {},
   "outputs": [],
   "source": [
    "import pandas as pd\n",
    "import os\n",
    "from sklearn.linear_model import LogisticRegression\n",
    "from sklearn import metrics\n",
    "from sklearn.model_selection import cross_val_score, train_test_split\n",
    "import numpy as np\n",
    "import matplotlib.pyplot as plt\n",
    "import seaborn as sns\n",
    "\n",
    "RAND_SEED = 0"
   ]
  },
  {
   "cell_type": "markdown",
   "id": "e0136a89-65d9-4fe6-a7a6-07b92814492e",
   "metadata": {},
   "source": [
    "## Data processing"
   ]
  },
  {
   "cell_type": "code",
   "execution_count": 14,
   "id": "f395dfd1-ebb9-4b69-ba32-876c023e0e2c",
   "metadata": {},
   "outputs": [],
   "source": [
    "df = pd.read_csv('./hunger_games.csv')"
   ]
  },
  {
   "cell_type": "markdown",
   "id": "c0c0f4c3-7b7d-4d35-958b-adb36715c347",
   "metadata": {},
   "source": [
    "### Standarizing age\n",
    "According to The Hunger Games rules, contestants must be between ages 12 to 18. \n",
    "So we can standarize their ages to be in the range [0,1] as follows: \n",
    "\n",
    "* standard_age =(age-12)/6\n",
    "\n",
    "Note that we will only keep 3 decimal places. \n",
    "\n",
    "Justification: all features are indicator variables except for age, so our model might predict better if we standarize age. \n"
   ]
  },
  {
   "cell_type": "code",
   "execution_count": 15,
   "id": "672243fa-2fed-498e-8951-1a663322676c",
   "metadata": {},
   "outputs": [],
   "source": [
    "# Standarize age\n",
    "def standard_age(age):\n",
    "    assert(age >=12)\n",
    "    assert(age <= 18)\n",
    "    std_age = (age-12)/6\n",
    "    return float('%.3f' % std_age)\n",
    "\n",
    "df['age'] = df['age'].apply(standard_age)"
   ]
  },
  {
   "cell_type": "markdown",
   "id": "ea190c08-bfe0-4d12-9a39-14c7113bb648",
   "metadata": {},
   "source": [
    "### Data cleanup\n",
    "\n",
    "We model whether or not the players survive day 1 on several x-variables: \n",
    "\n",
    "* female (1 female, 0 male), \n",
    "* career (1 yes, 0 no)\n",
    "* has_name (1 yes, 0 no)\n",
    "* volunteer (1 yes, 0 no)\n",
    "* age (standarized). \n"
   ]
  },
  {
   "cell_type": "code",
   "execution_count": 16,
   "id": "ea8b4b3f-a135-4e01-8d87-fe522acdc779",
   "metadata": {},
   "outputs": [
    {
     "data": {
      "text/html": [
       "<div>\n",
       "<style scoped>\n",
       "    .dataframe tbody tr th:only-of-type {\n",
       "        vertical-align: middle;\n",
       "    }\n",
       "\n",
       "    .dataframe tbody tr th {\n",
       "        vertical-align: top;\n",
       "    }\n",
       "\n",
       "    .dataframe thead th {\n",
       "        text-align: right;\n",
       "    }\n",
       "</style>\n",
       "<table border=\"1\" class=\"dataframe\">\n",
       "  <thead>\n",
       "    <tr style=\"text-align: right;\">\n",
       "      <th></th>\n",
       "      <th>female</th>\n",
       "      <th>career</th>\n",
       "      <th>has_name</th>\n",
       "      <th>volunteer</th>\n",
       "      <th>age</th>\n",
       "    </tr>\n",
       "  </thead>\n",
       "  <tbody>\n",
       "    <tr>\n",
       "      <th>0</th>\n",
       "      <td>0</td>\n",
       "      <td>1</td>\n",
       "      <td>1</td>\n",
       "      <td>1</td>\n",
       "      <td>0.833</td>\n",
       "    </tr>\n",
       "    <tr>\n",
       "      <th>1</th>\n",
       "      <td>1</td>\n",
       "      <td>1</td>\n",
       "      <td>1</td>\n",
       "      <td>1</td>\n",
       "      <td>0.833</td>\n",
       "    </tr>\n",
       "    <tr>\n",
       "      <th>2</th>\n",
       "      <td>0</td>\n",
       "      <td>1</td>\n",
       "      <td>1</td>\n",
       "      <td>1</td>\n",
       "      <td>1.000</td>\n",
       "    </tr>\n",
       "  </tbody>\n",
       "</table>\n",
       "</div>"
      ],
      "text/plain": [
       "   female  career  has_name  volunteer    age\n",
       "0       0       1         1          1  0.833\n",
       "1       1       1         1          1  0.833\n",
       "2       0       1         1          1  1.000"
      ]
     },
     "execution_count": 16,
     "metadata": {},
     "output_type": "execute_result"
    }
   ],
   "source": [
    "# Independent variable\n",
    "y = df.surv_day1\n",
    "# Dependent variables/ features. throw away useless info.\n",
    "features = ['female', 'career', 'has_name', 'volunteer', 'age']\n",
    "X = df[features]\n",
    "X.head(3)"
   ]
  },
  {
   "cell_type": "markdown",
   "id": "f9740376-f353-469e-bf10-15ea276a0ed4",
   "metadata": {},
   "source": [
    "### Train test split\n",
    "Since we are interested in predicting Katniss, let the train set contain all the tributes except Katniss. Let the test set only contain Katniss.\n",
    "\n",
    "Katniss corresponds to the last observation, index = 23"
   ]
  },
  {
   "cell_type": "code",
   "execution_count": 26,
   "id": "dda50e40-545d-4632-9cbf-2a06709d8044",
   "metadata": {},
   "outputs": [],
   "source": [
    "katniss_idx = 23\n",
    "# Katniss features\n",
    "X_test = X.iloc[katniss_idx]\n",
    "y_test = y.iloc[katniss_idx]\n",
    "X_train = X.drop([katniss_idx])\n",
    "y_train = y.drop([katniss_idx])"
   ]
  },
  {
   "cell_type": "markdown",
   "id": "7b8c579c-7306-48fe-a353-61bae0fe59e9",
   "metadata": {},
   "source": [
    "## Cross validation of logistic regression with lasso penalty"
   ]
  },
  {
   "cell_type": "code",
   "execution_count": 37,
   "id": "96e56e9b-c8be-4fda-b95e-3b8ed2c2f33f",
   "metadata": {},
   "outputs": [
    {
     "name": "stdout",
     "output_type": "stream",
     "text": [
      "0.480 accuracy criterion with stdev of 0.07 for lambda=5.000\n",
      "0.610 accuracy criterion with stdev of 0.15 for lambda=3.000\n",
      "0.710 accuracy criterion with stdev of 0.20 for lambda=2.750\n",
      "0.710 accuracy criterion with stdev of 0.20 for lambda=2.500\n",
      "0.830 accuracy criterion with stdev of 0.15 for lambda=1.550\n",
      "0.830 accuracy criterion with stdev of 0.15 for lambda=1.500\n",
      "0.830 accuracy criterion with stdev of 0.15 for lambda=1.450\n",
      "0.790 accuracy criterion with stdev of 0.13 for lambda=1.000\n",
      "0.790 accuracy criterion with stdev of 0.13 for lambda=0.100\n",
      "0.790 accuracy criterion with stdev of 0.13 for lambda=0.050\n",
      "0.790 accuracy criterion with stdev of 0.13 for lambda=0.010\n",
      "0.790 accuracy criterion with stdev of 0.13 for lambda=0.001\n"
     ]
    }
   ],
   "source": [
    "import warnings\n",
    "warnings.filterwarnings('ignore')\n",
    "\n",
    "lambdas = [5, 3, 2.75, 2.5, 1.55, 1.5, 1.45, 1, .1, 0.05, 0.01, 0.001] \n",
    "\n",
    "k = 5\n",
    "\n",
    "criterions = []\n",
    "female_betas = [] \n",
    "career_betas = []\n",
    "has_name_betas = []\n",
    "volunteer_betas = []\n",
    "age_betas = []\n",
    "\n",
    "for i, c in enumerate(lambdas):\n",
    "    lasslogreg = LogisticRegression(penalty='l1', C=1/c, solver='liblinear', random_state=RAND_SEED)\n",
    "    scores = cross_val_score(lasslogreg, X_train, y_train, cv=k)\n",
    "    fit = lasslogreg.fit(X_train, y_train)\n",
    "    print(\"%0.3f accuracy criterion with stdev of %0.2f for lambda=%0.3f\" % (scores.mean(), scores.std(), c))\n",
    "    female_betas.append(fit.coef_[0][0])\n",
    "    career_betas.append(fit.coef_[0][1])\n",
    "    has_name_betas.append(fit.coef_[0][2])\n",
    "    volunteer_betas.append(fit.coef_[0][3])\n",
    "    age_betas.append(fit.coef_[0][4])\n",
    "    criterions.append(scores.mean())"
   ]
  },
  {
   "cell_type": "markdown",
   "id": "ec5e4c51-a33b-4af6-96e7-150b89d84d60",
   "metadata": {},
   "source": [
    "### i) Cross validated criterion as a function of lambda"
   ]
  },
  {
   "cell_type": "code",
   "execution_count": 41,
   "id": "99ba2b7e-4f75-4483-b350-b14a4c121c08",
   "metadata": {},
   "outputs": [
    {
     "data": {
      "text/plain": [
       "Text(0.5, 1.0, 'Mean cross-validated criterion as a function of lambda')"
      ]
     },
     "execution_count": 41,
     "metadata": {},
     "output_type": "execute_result"
    },
    {
     "data": {
      "image/png": "[encoded data removed]",
      "text/plain": [
       "<Figure size 640x480 with 1 Axes>"
      ]
     },
     "metadata": {},
     "output_type": "display_data"
    }
   ],
   "source": [
    "lambdas = np.array(lambdas)\n",
    "criterions = np.array(criterions)\n",
    "\n",
    "plt.plot(lambdas, criterions)\n",
    "\n",
    "plt.xlabel(\"lambda\")\n",
    "plt.ylabel(\"accuracy criterion\")\n",
    "plt.title(\"Mean cross-validated criterion as a function of lambda\")"
   ]
  },
  {
   "cell_type": "markdown",
   "id": "ae9a4f0d-1950-4419-aee5-13e7742d451b",
   "metadata": {},
   "source": [
    "### ii) Coefficients plot"
   ]
  },
  {
   "cell_type": "code",
   "execution_count": 40,
   "id": "be573887-f658-4584-854e-0098133694da",
   "metadata": {},
   "outputs": [
    {
     "data": {
      "text/plain": [
       "<matplotlib.legend.Legend at 0x7f39559c17e0>"
      ]
     },
     "execution_count": 40,
     "metadata": {},
     "output_type": "execute_result"
    },
    {
     "data": {
      "image/png": "[encoded data removed]",
      "text/plain": [
       "<Figure size 640x480 with 1 Axes>"
      ]
     },
     "metadata": {},
     "output_type": "display_data"
    }
   ],
   "source": [
    "female_betas = np.array(female_betas)\n",
    "career_betas = np.array(career_betas)\n",
    "has_name_betas = np.array(has_name_betas)\n",
    "volunteer_betas = np.array(volunteer_betas)\n",
    "age_betas = np.array(age_betas)\n",
    "\n",
    "plt.plot(lambdas, female_betas, label=\"is_female\")\n",
    "plt.plot(lambdas, career_betas, label=\"has_career\")\n",
    "plt.plot(lambdas, has_name_betas, label=\"has_name\")\n",
    "plt.plot(lambdas, volunteer_betas, label=\"is_volunteer\")\n",
    "plt.plot(lambdas, age_betas, label=\"age\")\n",
    "\n",
    "plt.xlabel(\"lambda\")\n",
    "plt.ylabel(\"coefficient\")\n",
    "plt.legend()"
   ]
  },
  {
   "cell_type": "markdown",
   "id": "60620360-3ef5-445a-a6ae-0db140fb9548",
   "metadata": {},
   "source": [
    "### iii) Which variables does the model select?"
   ]
  },
  {
   "cell_type": "code",
   "execution_count": 46,
   "id": "51e7927b-2b69-4098-b19a-a99310ead250",
   "metadata": {},
   "outputs": [
    {
     "name": "stdout",
     "output_type": "stream",
     "text": [
      "lambda = 1.5\n",
      "Coefficients:\n",
      " beta_female = 0.000\n",
      " beta_career = 0.000\n",
      " beta_has_name = 1.600\n",
      " beta_volunteer = 0.000\n",
      " beta_age = 0.000\n"
     ]
    }
   ],
   "source": [
    "choice_lambda = 1.5\n",
    "chosen_model = LogisticRegression(penalty='l1', solver='liblinear', C=1/choice_lambda, random_state=RAND_SEED)\n",
    "chosen_fit = chosen_model.fit(X_train, y_train)\n",
    "\n",
    "print(f\"lambda = {choice_lambda}\")\n",
    "# This is one of the lambda values for which the cross-validation accuracy criterion is maximized so we well choose this.\n",
    "\n",
    "print(\"Coefficients:\")\n",
    "for i, name in enumerate(features):\n",
    "    print(f\" beta_{name} = %.3f\" % chosen_fit.coef_[0][i])"
   ]
  },
  {
   "cell_type": "markdown",
   "id": "d6828df9-3934-43a8-882d-0841b97954b2",
   "metadata": {},
   "source": [
    "* Choice of lambda = 1.5 (corresponds to argmax for accuracy cross_validation plot)\n",
    "* **Model only selects variable has_name, since it has the only non-zero coefficient**. \n"
   ]
  },
  {
   "cell_type": "markdown",
   "id": "ba81ffeb-3000-4398-9d4b-8c46712521c0",
   "metadata": {},
   "source": [
    "# b) What are the penalized coefficients of the selected variables\n",
    "\n",
    "* All other coefficients (**female, career, volunteer, age**) are set to zero by the lasso penalty, so they are excluded in variable selection.\n"
   ]
  },
  {
   "cell_type": "markdown",
   "id": "d3dc60d4-e258-4a8d-b549-73b84043b387",
   "metadata": {},
   "source": [
    "# c) Given that all players with a name survive the first day, their estimate of survival probability is 100%. What is Katniss' first-day survival probability based on the Lasso model?\n",
    "\n",
    "* Chosen fit was trained with all observations except katniss. So we use the chosen fit.\n",
    "* X_test = katniss features"
   ]
  },
  {
   "cell_type": "code",
   "execution_count": 68,
   "id": "7444eec0-4e47-4f8b-9655-ab1cdbfb7ae0",
   "metadata": {},
   "outputs": [
    {
     "data": {
      "text/plain": [
       "array([[1.   , 0.   , 1.   , 1.   , 0.667]])"
      ]
     },
     "execution_count": 68,
     "metadata": {},
     "output_type": "execute_result"
    }
   ],
   "source": [
    "katniss = np.array(X_test).reshape(1,-1)\n",
    "katniss"
   ]
  },
  {
   "cell_type": "code",
   "execution_count": 70,
   "id": "b5ed33c3-7f15-44b8-aa27-9a01a4005bb3",
   "metadata": {},
   "outputs": [
    {
     "data": {
      "text/plain": [
       "array([[0.18750194, 0.81249806]])"
      ]
     },
     "execution_count": 70,
     "metadata": {},
     "output_type": "execute_result"
    }
   ],
   "source": [
    "# Prediction for katniss survival:\n",
    "chosen_fit.predict_proba(katniss)"
   ]
  },
  {
   "cell_type": "markdown",
   "id": "03f128b1-434a-44af-9b40-4487d88ba1fd",
   "metadata": {},
   "source": [
    "These probabilities correspond to Katniss belonging to classes 0 and 1 respectiveley.\n",
    "So, the probability that Katniss survives the first day is **81.25%**"
   ]
  }
 ],
 "metadata": {
  "kernelspec": {
   "display_name": "Python 3",
   "language": "python",
   "name": "python3"
  },
  "language_info": {
   "codemirror_mode": {
    "name": "ipython",
    "version": 3
   },
   "file_extension": ".py",
   "mimetype": "text/x-python",
   "name": "python",
   "nbconvert_exporter": "python",
   "pygments_lexer": "ipython3",
   "version": "3.10.4"
  }
 },
 "nbformat": 4,
 "nbformat_minor": 5
}
