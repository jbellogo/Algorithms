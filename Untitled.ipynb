{
 "cells": [
  {
   "cell_type": "markdown",
   "id": "4c0639d7",
   "metadata": {},
   "source": [
    "Understanding prim's implementation \n",
    "https://www.geeksforgeeks.org/prims-algorithm-using-priority_queue-stl/"
   ]
  },
  {
   "cell_type": "code",
   "execution_count": 3,
   "id": "2275aa07",
   "metadata": {},
   "outputs": [],
   "source": [
    "import heapq\n",
    "\n",
    "    # This class represents a directed graph using adjacency list representation\n",
    "class Graph:\n",
    "    def __init__(self, V):\n",
    "        self.V = V\n",
    "        self.adj = [[] for _ in range(V)]\n",
    "\n",
    "    # Function to add an edge to the graph\n",
    "    def add_edge(self, u, v, w):\n",
    "        self.adj[u].append((v, w))\n",
    "        self.adj[v].append((u, w))\n",
    "        \n",
    "V = 9\n",
    "g = Graph(V)\n",
    "\n",
    "# Making the above shown graph\n",
    "g.add_edge(0, 1, 4)\n",
    "g.add_edge(0, 7, 8)\n",
    "g.add_edge(1, 2, 8)\n",
    "g.add_edge(1, 7, 11)\n",
    "g.add_edge(2, 3, 7)\n",
    "g.add_edge(2, 8, 2)\n",
    "g.add_edge(2, 5, 4)\n",
    "g.add_edge(3, 4, 9)\n",
    "g.add_edge(3, 5, 14)\n",
    "g.add_edge(4, 5, 10)\n",
    "g.add_edge(5, 6, 2)\n",
    "g.add_edge(6, 7, 1)\n",
    "g.add_edge(6, 8, 6)\n",
    "g.add_edge(7, 8, 7)"
   ]
  },
  {
   "cell_type": "code",
   "execution_count": 4,
   "id": "b5e113bd",
   "metadata": {},
   "outputs": [
    {
     "data": {
      "text/plain": [
       "[[(1, 4), (7, 8)],\n",
       " [(0, 4), (2, 8), (7, 11)],\n",
       " [(1, 8), (3, 7), (8, 2), (5, 4)],\n",
       " [(2, 7), (4, 9), (5, 14)],\n",
       " [(3, 9), (5, 10)],\n",
       " [(2, 4), (3, 14), (4, 10), (6, 2)],\n",
       " [(5, 2), (7, 1), (8, 6)],\n",
       " [(0, 8), (1, 11), (6, 1), (8, 7)],\n",
       " [(2, 2), (6, 6), (7, 7)]]"
      ]
     },
     "execution_count": 4,
     "metadata": {},
     "output_type": "execute_result"
    }
   ],
   "source": [
    "# Adjacency list is indexed by from_vertex\n",
    "# it is a list of tuples in the form (to_vertex, weight)\n",
    "# it has duplicated entries permuting from and to vertices\n",
    "print(g.adj)\n",
    "\n"
   ]
  },
  {
   "cell_type": "code",
   "execution_count": null,
   "id": "ae6bfb7a",
   "metadata": {},
   "outputs": [],
   "source": [
    "# Function to print MST using Prim's algorithm\n",
    "def prim_mst(V, AdjE):\n",
    "    '''\n",
    "    Should't pass AdjE unless it's a pointer. prim_mst should be a method but I separated it to play with it.\n",
    "    '''\n",
    "    pq = [] # Priority queue to store vertices that are being processed\n",
    "    src = 0 # Taking vertex 0 as the source\n",
    "\n",
    "    # Create a list for keys and initialize all keys as infinite (INF)\n",
    "    key = [float('inf')] * self.V\n",
    "\n",
    "    # To store the parent array which, in turn, stores MST\n",
    "    parent = [-1] * self.V\n",
    "\n",
    "    # To keep track of vertices included in MST\n",
    "    in_mst = [False] * self.V\n",
    "\n",
    "    # Insert source itself into the priority queue and initialize its key as 0\n",
    "    heapq.heappush(pq, (0, src))\n",
    "    key[src] = 0\n",
    "\n",
    "    # Loop until the priority queue becomes empty\n",
    "    while pq:\n",
    "        # The first vertex in the pair is the minimum key vertex\n",
    "        # Extract it from the priority queue\n",
    "        # The vertex label is stored in the second of the pair\n",
    "        u = heapq.heappop(pq)[1]\n",
    "\n",
    "        # Different key values for the same vertex may exist in the priority queue.\n",
    "        # The one with the least key value is always processed first.\n",
    "        # Therefore, ignore the rest.\n",
    "        if in_mst[u]:\n",
    "            continue\n",
    "\n",
    "        in_mst[u] = True # Include the vertex in MST\n",
    "\n",
    "        # Iterate through all adjacent vertices of a vertex\n",
    "        for v, weight in self.adj[u]:\n",
    "            # If v is not in MST and the weight of (u, v) is smaller than the current key of v\n",
    "            if not in_mst[v] and key[v] > weight:\n",
    "                # Update the key of v\n",
    "                key[v] = weight\n",
    "                heapq.heappush(pq, (key[v], v))\n",
    "                parent[v] = u\n",
    "\n",
    "    # Print edges of MST using the parent array\n",
    "    for i in range(1, self.V):\n",
    "        print(f\"{parent[i]} - {i}\")\n"
   ]
  },
  {
   "cell_type": "code",
   "execution_count": null,
   "id": "0b878333",
   "metadata": {},
   "outputs": [],
   "source": []
  },
  {
   "cell_type": "code",
   "execution_count": null,
   "id": "7554ebc7",
   "metadata": {},
   "outputs": [],
   "source": []
  },
  {
   "cell_type": "code",
   "execution_count": null,
   "id": "f5bc5936",
   "metadata": {},
   "outputs": [],
   "source": []
  },
  {
   "cell_type": "code",
   "execution_count": null,
   "id": "30be8c52",
   "metadata": {},
   "outputs": [],
   "source": []
  },
  {
   "cell_type": "code",
   "execution_count": null,
   "id": "46b430f0",
   "metadata": {},
   "outputs": [],
   "source": []
  },
  {
   "cell_type": "code",
   "execution_count": null,
   "id": "c95899fc",
   "metadata": {},
   "outputs": [],
   "source": []
  },
  {
   "cell_type": "code",
   "execution_count": null,
   "id": "c6da55d6",
   "metadata": {},
   "outputs": [],
   "source": [
    "# Driver program to test methods of the graph class\n",
    "if __name__ == \"__main__\":\n",
    "    # Create the graph given in the above figure\n",
    "    V = 9\n",
    "    g = Graph(V)\n",
    "\n",
    "    # Making the above shown graph\n",
    "    g.add_edge(0, 1, 4)\n",
    "    g.add_edge(0, 7, 8)\n",
    "    g.add_edge(1, 2, 8)\n",
    "    g.add_edge(1, 7, 11)\n",
    "    g.add_edge(2, 3, 7)\n",
    "    g.add_edge(2, 8, 2)\n",
    "    g.add_edge(2, 5, 4)\n",
    "    g.add_edge(3, 4, 9)\n",
    "    g.add_edge(3, 5, 14)\n",
    "    g.add_edge(4, 5, 10)\n",
    "    g.add_edge(5, 6, 2)\n",
    "    g.add_edge(6, 7, 1)\n",
    "    g.add_edge(6, 8, 6)\n",
    "    g.add_edge(7, 8, 7)\n",
    "\n",
    "    g.prim_mst()\n"
   ]
  }
 ],
 "metadata": {
  "kernelspec": {
   "display_name": "Python 3 (ipykernel)",
   "language": "python",
   "name": "python3"
  },
  "language_info": {
   "codemirror_mode": {
    "name": "ipython",
    "version": 3
   },
   "file_extension": ".py",
   "mimetype": "text/x-python",
   "name": "python",
   "nbconvert_exporter": "python",
   "pygments_lexer": "ipython3",
   "version": "3.11.5"
  }
 },
 "nbformat": 4,
 "nbformat_minor": 5
}
